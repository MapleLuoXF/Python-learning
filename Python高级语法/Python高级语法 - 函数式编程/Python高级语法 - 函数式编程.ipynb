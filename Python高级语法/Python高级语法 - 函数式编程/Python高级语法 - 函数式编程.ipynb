{
 "cells": [
  {
   "cell_type": "markdown",
   "metadata": {},
   "source": [
    "# Python语言的高级特性"
   ]
  },
  {
   "cell_type": "markdown",
   "metadata": {},
   "source": [
    "### 1、函数式编程（functionalProgramming）\n",
    "- 基于lambda演算的一种编程方式\n",
    "    - 程序中只有函数\n",
    "    - 函数可以作为参数，童昂可以作为返回值\n",
    "    - 纯函数式编程语言：LISP，Haskell\n",
    "- Python函数式编程只是借鉴函数式编程的一些特点，可以理解成一半函数式一半Python\n",
    "- 需要讲述：\n",
    "    - 高阶函数\n",
    "    - 返回函数\n",
    "    - 匿名函数\n",
    "    - 装饰器\n",
    "    - 偏函数"
   ]
  },
  {
   "cell_type": "markdown",
   "metadata": {},
   "source": [
    "### 2、lambda表达式\n",
    "- 函数：最大程度复用代码\n",
    "    - 存在问题：如果函数很小，很短，则会造成啰嗦\n",
    "    - 如果函数被调用次数少，则会造成浪费\n",
    "    - 对于阅读者来说，造成阅读流程的被迫中断\n",
    "- lambda表达式（匿名函数）：\n",
    "    - 一个表达式，函数体相对简单\n",
    "    - 不是一个代码块，仅仅是一个表达式\n",
    "    - 可以有参数，有多个参数也可以，用逗号隔开\n",
    "    "
   ]
  },
  {
   "cell_type": "code",
   "execution_count": 2,
   "metadata": {},
   "outputs": [
    {
     "name": "stdout",
     "output_type": "stream",
     "text": [
      "AAAAA\n"
     ]
    }
   ],
   "source": [
    "# 小的函数举例\n",
    "# 认为造成了思维跳转\n",
    "def printA():\n",
    "    print(\"AAAAA\")\n",
    "    \n",
    "printA()"
   ]
  },
  {
   "cell_type": "code",
   "execution_count": 3,
   "metadata": {},
   "outputs": [
    {
     "data": {
      "text/plain": [
       "2000"
      ]
     },
     "execution_count": 3,
     "metadata": {},
     "output_type": "execute_result"
    }
   ],
   "source": [
    "# lambda表达式的用法\n",
    "# 1.以lambda开头\n",
    "# 2.紧跟一定的参数（如果有的话）\n",
    "# 3.参数后用冒号和表达式主体隔开\n",
    "# 4.只是一个表达式，所以没有return\n",
    "\n",
    "# 计算一个数字的100倍\n",
    "# 因为就是一个表达式，所有没有return\n",
    "stm = lambda x:100*x \n",
    "# 使用上跟函数调用一模一样\n",
    "stm(20)"
   ]
  },
  {
   "cell_type": "code",
   "execution_count": 5,
   "metadata": {},
   "outputs": [
    {
     "data": {
      "text/plain": [
       "654"
      ]
     },
     "execution_count": 5,
     "metadata": {},
     "output_type": "execute_result"
    }
   ],
   "source": [
    "stm2 = lambda x,y,z:x+y*10+z*100\n",
    "stm2(4,5,6)"
   ]
  },
  {
   "cell_type": "markdown",
   "metadata": {},
   "source": [
    "### 3、高阶函数\n",
    "- 把函数作为参数使用的函数，叫高阶函数"
   ]
  },
  {
   "cell_type": "code",
   "execution_count": 9,
   "metadata": {},
   "outputs": [
    {
     "name": "stdout",
     "output_type": "stream",
     "text": [
      "<function funcA at 0x00000000051D59D8>\n",
      "In funcA\n",
      "In funcA\n"
     ]
    }
   ],
   "source": [
    "# 变量可以赋值\n",
    "# 函数名称本身就是一个变量，加入括号后就是函数的调用\n",
    "\n",
    "def funcA():\n",
    "    print(\"In funcA\")\n",
    "\n",
    "print(funcA)\n",
    "funcA()\n",
    "# 函数名是一个变量，可以赋值，也可以当成一个参数传到另一个函数中去\n",
    "funcB = funcA\n",
    "funcB()"
   ]
  },
  {
   "cell_type": "markdown",
   "metadata": {},
   "source": [
    "### 3.1、以上代码得出的结论：\n",
    "- 函数名称是变量\n",
    "- funcB 和 funcA只是名称不一样而已\n",
    "- 既然函数名称是变量，则应该可以被当做参数传入另一个函数"
   ]
  },
  {
   "cell_type": "code",
   "execution_count": 15,
   "metadata": {},
   "outputs": [
    {
     "name": "stdout",
     "output_type": "stream",
     "text": [
      "300\n",
      "900\n",
      "900\n"
     ]
    }
   ],
   "source": [
    "# 高阶函数举例\n",
    "# funA是普通函数，返回一个传入数字的100倍数字\n",
    "\n",
    "def funA(n):\n",
    "    return n*100\n",
    "\n",
    "# 再写一个函数，把传入参数乘以300倍，利用高阶函数\n",
    "def funB(n):\n",
    "    return funA(n)*3\n",
    "\n",
    "print(funA(3))\n",
    "print(funB(3))\n",
    "\n",
    "# 写一个高阶函数\n",
    "def funC(n,f):\n",
    "    # 假定函数f是把n扩大100倍\n",
    "    return f(n)*3\n",
    "\n",
    "print(funC(3,funA))\n",
    "\n",
    "# 比较funC和funB，显然funC的写法要优于funB\n",
    "# 若需求上产生变更，只需要修改funC(n,f)的f"
   ]
  },
  {
   "cell_type": "markdown",
   "metadata": {},
   "source": [
    "### 4、系统高阶函数 - map\n",
    "- 原意就是映射，即把集合和列表的元素，每一个元素都按照一定规则进行操作，生成一个新的列表或者集合\n",
    "- map函数是系统提供的具有映射功能的函数，返回值是一个迭代对象"
   ]
  },
  {
   "cell_type": "code",
   "execution_count": 27,
   "metadata": {},
   "outputs": [
    {
     "name": "stdout",
     "output_type": "stream",
     "text": [
      "[0, 1, 2, 3, 4, 5, 6, 7, 8, 9]\n",
      "<map object at 0x00000000050039B0>\n",
      "[0, 10, 20, 30, 40, 50, 60, 70, 80, 90]\n",
      "[]\n",
      "[]\n",
      "[]\n"
     ]
    },
    {
     "data": {
      "text/plain": [
       "'\\n会得到以下结果的原因：map对象是一次性的，这在python 2\\n和Python 3中的不同的，Python 2里的对象使用之后依然是原\\n来的样子，而Python 3迭代之后就是空的了\\n'"
      ]
     },
     "execution_count": 27,
     "metadata": {},
     "output_type": "execute_result"
    }
   ],
   "source": [
    "# map举例\n",
    "# 对列表内的所有元素乘以10，可以通过for循环简单实现\n",
    "\n",
    "def mulTen(n):\n",
    "    return n*10\n",
    "\n",
    "l1=[i for i in range(10)]\n",
    "print(l1)\n",
    "\n",
    "# help(map)\n",
    "# If you really need a list and the input sequences are all of equal length, a quick\n",
    "# fix is to wrap map() in list(), e.g. list(map(...))\n",
    "\n",
    "l2=map(mulTen,l1)\n",
    "print(l2)\n",
    "# 得到一个结果是map object，如果想显示利用for循环遍历\n",
    "\n",
    "l6 = [i for i in l2]\n",
    "print(l6)\n",
    "\n",
    "l3=list(l2)\n",
    "print(l3)\n",
    "\n",
    "for i in l2:\n",
    "    print(i,end=\" \")\n",
    "    \n",
    "l4 = [i for i in l2]\n",
    "print(l4)\n",
    "\n",
    "l5 = [i for i in l2]\n",
    "print(l5)\n",
    "\n",
    "'''\n",
    "1、会得到以下结果的原因：map对象是一次性的，这在python 2\n",
    "和Python 3中的不同的，Python 2里的对象使用之后依然是原\n",
    "来的样子，而Python 3迭代之后就是空的了.\n",
    "2、解决方法：将map object进行格式化，可以转化为list(map(...,...))\n",
    "'''"
   ]
  },
  {
   "cell_type": "code",
   "execution_count": 23,
   "metadata": {},
   "outputs": [
    {
     "name": "stdout",
     "output_type": "stream",
     "text": [
      "Help on class list in module builtins:\n",
      "\n",
      "class list(object)\n",
      " |  list() -> new empty list\n",
      " |  list(iterable) -> new list initialized from iterable's items\n",
      " |  \n",
      " |  Methods defined here:\n",
      " |  \n",
      " |  __add__(self, value, /)\n",
      " |      Return self+value.\n",
      " |  \n",
      " |  __contains__(self, key, /)\n",
      " |      Return key in self.\n",
      " |  \n",
      " |  __delitem__(self, key, /)\n",
      " |      Delete self[key].\n",
      " |  \n",
      " |  __eq__(self, value, /)\n",
      " |      Return self==value.\n",
      " |  \n",
      " |  __ge__(self, value, /)\n",
      " |      Return self>=value.\n",
      " |  \n",
      " |  __getattribute__(self, name, /)\n",
      " |      Return getattr(self, name).\n",
      " |  \n",
      " |  __getitem__(...)\n",
      " |      x.__getitem__(y) <==> x[y]\n",
      " |  \n",
      " |  __gt__(self, value, /)\n",
      " |      Return self>value.\n",
      " |  \n",
      " |  __iadd__(self, value, /)\n",
      " |      Implement self+=value.\n",
      " |  \n",
      " |  __imul__(self, value, /)\n",
      " |      Implement self*=value.\n",
      " |  \n",
      " |  __init__(self, /, *args, **kwargs)\n",
      " |      Initialize self.  See help(type(self)) for accurate signature.\n",
      " |  \n",
      " |  __iter__(self, /)\n",
      " |      Implement iter(self).\n",
      " |  \n",
      " |  __le__(self, value, /)\n",
      " |      Return self<=value.\n",
      " |  \n",
      " |  __len__(self, /)\n",
      " |      Return len(self).\n",
      " |  \n",
      " |  __lt__(self, value, /)\n",
      " |      Return self<value.\n",
      " |  \n",
      " |  __mul__(self, value, /)\n",
      " |      Return self*value.n\n",
      " |  \n",
      " |  __ne__(self, value, /)\n",
      " |      Return self!=value.\n",
      " |  \n",
      " |  __new__(*args, **kwargs) from builtins.type\n",
      " |      Create and return a new object.  See help(type) for accurate signature.\n",
      " |  \n",
      " |  __repr__(self, /)\n",
      " |      Return repr(self).\n",
      " |  \n",
      " |  __reversed__(...)\n",
      " |      L.__reversed__() -- return a reverse iterator over the list\n",
      " |  \n",
      " |  __rmul__(self, value, /)\n",
      " |      Return self*value.\n",
      " |  \n",
      " |  __setitem__(self, key, value, /)\n",
      " |      Set self[key] to value.\n",
      " |  \n",
      " |  __sizeof__(...)\n",
      " |      L.__sizeof__() -- size of L in memory, in bytes\n",
      " |  \n",
      " |  append(...)\n",
      " |      L.append(object) -> None -- append object to end\n",
      " |  \n",
      " |  clear(...)\n",
      " |      L.clear() -> None -- remove all items from L\n",
      " |  \n",
      " |  copy(...)\n",
      " |      L.copy() -> list -- a shallow copy of L\n",
      " |  \n",
      " |  count(...)\n",
      " |      L.count(value) -> integer -- return number of occurrences of value\n",
      " |  \n",
      " |  extend(...)\n",
      " |      L.extend(iterable) -> None -- extend list by appending elements from the iterable\n",
      " |  \n",
      " |  index(...)\n",
      " |      L.index(value, [start, [stop]]) -> integer -- return first index of value.\n",
      " |      Raises ValueError if the value is not present.\n",
      " |  \n",
      " |  insert(...)\n",
      " |      L.insert(index, object) -- insert object before index\n",
      " |  \n",
      " |  pop(...)\n",
      " |      L.pop([index]) -> item -- remove and return item at index (default last).\n",
      " |      Raises IndexError if list is empty or index is out of range.\n",
      " |  \n",
      " |  remove(...)\n",
      " |      L.remove(value) -> None -- remove first occurrence of value.\n",
      " |      Raises ValueError if the value is not present.\n",
      " |  \n",
      " |  reverse(...)\n",
      " |      L.reverse() -- reverse *IN PLACE*\n",
      " |  \n",
      " |  sort(...)\n",
      " |      L.sort(key=None, reverse=False) -> None -- stable sort *IN PLACE*\n",
      " |  \n",
      " |  ----------------------------------------------------------------------\n",
      " |  Data and other attributes defined here:\n",
      " |  \n",
      " |  __hash__ = None\n",
      "\n"
     ]
    }
   ],
   "source": [
    "help(list)"
   ]
  },
  {
   "cell_type": "markdown",
   "metadata": {},
   "source": [
    "### 5、reduce\n",
    "- 原意是归并，缩减\n",
    "- 把一个可迭代对象最后归并成一个结果\n",
    "- 对于作为参数的函数要求： 必须有两个参数，必须有返回结果\n",
    "- reduce函数的执行顺序：\n",
    "    - reduce([1,2,3,4,5]) == f(f(f(f(1,2),3),4),5)\n",
    "- reduce需要导入functools模块（functools是一个模块而不是一个包！）"
   ]
  },
  {
   "cell_type": "code",
   "execution_count": 2,
   "metadata": {},
   "outputs": [
    {
     "name": "stdout",
     "output_type": "stream",
     "text": [
      "21\n"
     ]
    }
   ],
   "source": [
    "#from functools import reduce\n",
    "# 直接import functools并不能直接调用模块之中的函数，因为模块内的函数并没有存在于当前的语义表中\n",
    "import functools\n",
    "# 定义一个操作函数\n",
    "def myAdd(x,y):\n",
    "    return x+y\n",
    "\n",
    "rst = functools.reduce(myAdd,[1,2,3,4,5,6])\n",
    "print(rst)"
   ]
  },
  {
   "cell_type": "code",
   "execution_count": 3,
   "metadata": {},
   "outputs": [
    {
     "name": "stdout",
     "output_type": "stream",
     "text": [
      "Help on built-in function reduce in module _functools:\n",
      "\n",
      "reduce(...)\n",
      "    reduce(function, sequence[, initial]) -> value\n",
      "    \n",
      "    Apply a function of two arguments cumulatively to the items of a sequence,\n",
      "    from left to right, so as to reduce the sequence to a single value.\n",
      "    For example, reduce(lambda x, y: x+y, [1, 2, 3, 4, 5]) calculates\n",
      "    ((((1+2)+3)+4)+5).  If initial is present, it is placed before the items\n",
      "    of the sequence in the calculation, and serves as a default when the\n",
      "    sequence is empty.\n",
      "\n"
     ]
    }
   ],
   "source": [
    "help(functools.reduce)"
   ]
  },
  {
   "cell_type": "markdown",
   "metadata": {},
   "source": [
    "### 6、filter 函数\n",
    "- 过滤函数：对一组数据进行过滤，符合条件的数据会生成一个新列表并返回\n",
    "- 跟map函数相比较：\n",
    "    - 相同：都对列表的每一个元素逐一进行操作\n",
    "    - 不同：\n",
    "        - map会生成一个跟原来数据相对应的新队列\n",
    "        - fliter不一定，只要符合条件的才会进入新的数据几个\n",
    "    - 格式:\n",
    "        - 利用给定函数进行判断\n",
    "        - 返回值一定是个布尔值\n",
    "        - 调用格式：fliter(f,data),f是过滤函数，data是数据\n",
    "        "
   ]
  },
  {
   "cell_type": "code",
   "execution_count": 4,
   "metadata": {},
   "outputs": [
    {
     "name": "stdout",
     "output_type": "stream",
     "text": [
      "<filter object at 0x0000000004EC3400>\n",
      "[2, 4, 6, 2, 2, 36, 4, 54, 4]\n"
     ]
    }
   ],
   "source": [
    "# fliter案例\n",
    "\n",
    "# 对于一个列表，对其进行过滤，偶数组成一个新列表\n",
    "#需要定义一个过滤函数\n",
    "# 过滤函数要求有输入，返回布尔值\n",
    "def isEven(a):\n",
    "    return a%2 == 0\n",
    "\n",
    "l = [1,2,4,5,6,2,5,2,1,5,36,7,4,54,5,4]\n",
    "rst = filter(isEven,l)\n",
    "print(rst)\n",
    "\n",
    "l1 = list(rst)\n",
    "print(l1)"
   ]
  },
  {
   "cell_type": "markdown",
   "metadata": {},
   "source": [
    "### 7、高级函数 - 排序\n",
    "- 把一个序列按照给定算法进行排序\n",
    "- key：在排序前对每一个元素进行key函数运算，可以理解成按照key函数定义的逻辑进行排序\n",
    "- Python 2和Python 3相差巨大"
   ]
  },
  {
   "cell_type": "code",
   "execution_count": 1,
   "metadata": {},
   "outputs": [
    {
     "name": "stdout",
     "output_type": "stream",
     "text": [
      "Help on built-in function sorted in module builtins:\n",
      "\n",
      "sorted(iterable, /, *, key=None, reverse=False)\n",
      "    Return a new list containing all items from the iterable in ascending order.\n",
      "    \n",
      "    A custom key function can be supplied to customize the sort order, and the\n",
      "    reverse flag can be set to request the result in descending order.\n",
      "\n"
     ]
    }
   ],
   "source": [
    "help(sorted)"
   ]
  },
  {
   "cell_type": "code",
   "execution_count": 5,
   "metadata": {},
   "outputs": [
    {
     "name": "stdout",
     "output_type": "stream",
     "text": [
      "[23124, 51, 45, 41, 12, 2, 2, 2, 1]\n",
      "[1, 2, 2, 2, 12, 41, 45, 51, 23124]\n"
     ]
    }
   ],
   "source": [
    "# 排序案例 - 1\n",
    "\n",
    "l = [1,2,45,2,51,2,41,23124,12]\n",
    "l1 = sorted(l,key =None,reverse = True) \n",
    "print(l1)\n",
    "l2 = sorted(l,key = None ,reverse = False)\n",
    "print(l2)"
   ]
  },
  {
   "cell_type": "code",
   "execution_count": 7,
   "metadata": {},
   "outputs": [
    {
     "name": "stdout",
     "output_type": "stream",
     "text": [
      "[-23124, -51, 45, 41, 12, -2, 2, 2, 1]\n"
     ]
    }
   ],
   "source": [
    "# 排序案例 - 2\n",
    "\n",
    "l = [1,-2,45,2,-51,2,41,-23124,12]\n",
    "l3 = sorted(l,key = abs,reverse = True)\n",
    "print(l3)"
   ]
  },
  {
   "cell_type": "code",
   "execution_count": 8,
   "metadata": {},
   "outputs": [
    {
     "name": "stdout",
     "output_type": "stream",
     "text": [
      "['A', 'Berlin', 'Circulate', 'absolute']\n",
      "['A', 'absolute', 'Berlin', 'Circulate']\n"
     ]
    }
   ],
   "source": [
    "# 排序案例 - 3\n",
    "\n",
    "astr = ['A','absolute','Berlin','Circulate']\n",
    "str1= sorted(astr)\n",
    "print(str1)\n",
    "\n",
    "# Return a copy of the string S converted to lowercase.\n",
    "str2 = sorted(astr,key=str.lower)\n",
    "print(str2)"
   ]
  },
  {
   "cell_type": "markdown",
   "metadata": {},
   "source": [
    "### 8、返回函数\n",
    "- 函数可以返回具体的值\n",
    "- 也可以返回一个函数作为结果"
   ]
  },
  {
   "cell_type": "code",
   "execution_count": 1,
   "metadata": {},
   "outputs": [
    {
     "data": {
      "text/plain": [
       "45"
      ]
     },
     "execution_count": 1,
     "metadata": {},
     "output_type": "execute_result"
    }
   ],
   "source": [
    "# 负责一点的返回函数的例子\n",
    "# args:参数列表\n",
    "# *args和**args的区别：\n",
    "# 1、*args用于保存没有利用的多余参数，保存方式为tuple，是可变参数；\n",
    "# 2、**args用于保存没有利用的多余的键值对，保存方式为字典，是关键字参数\n",
    "\n",
    "def myF(*args):\n",
    "    def myF1():\n",
    "        rst = 0\n",
    "        for i in args:\n",
    "            rst += i\n",
    "        return rst\n",
    "    return myF1\n",
    "\n",
    "f =myF(1,2,3,4,5,6,7,8,9,0)\n",
    "f()"
   ]
  },
  {
   "cell_type": "markdown",
   "metadata": {},
   "source": [
    "### 9、闭包（closure）\n",
    "- 当一个函数在内部定义函数，并且内部的函数应用外部函数的参数或者局部参数，当内部函数被当做返回值的时候，相关参数和变量保存在返回的函数中，这种结果叫做闭包"
   ]
  },
  {
   "cell_type": "code",
   "execution_count": 2,
   "metadata": {},
   "outputs": [
    {
     "data": {
      "text/plain": [
       "45"
      ]
     },
     "execution_count": 2,
     "metadata": {},
     "output_type": "execute_result"
    }
   ],
   "source": [
    "# 闭包例子：\n",
    "def myF(*args):\n",
    "    def myF1():\n",
    "        rst = 0\n",
    "        for i in args:\n",
    "            rst += i\n",
    "        return rst\n",
    "    return myF1\n",
    "\n",
    "f =myF(1,2,3,4,5,6,7,8,9,0)\n",
    "f()"
   ]
  },
  {
   "cell_type": "code",
   "execution_count": 3,
   "metadata": {},
   "outputs": [
    {
     "name": "stdout",
     "output_type": "stream",
     "text": [
      "9\n",
      "9\n",
      "9\n"
     ]
    }
   ],
   "source": [
    "# 闭包常见问题\n",
    "def count():\n",
    "    fs = []\n",
    "    for i in range(1,4):\n",
    "        def f():\n",
    "            return i*i\n",
    "        fs.append(f)\n",
    "    return fs\n",
    "\n",
    "f1,f2,f3 = count()\n",
    "print(f1())\n",
    "print(f2())\n",
    "print(f3())"
   ]
  },
  {
   "cell_type": "markdown",
   "metadata": {},
   "source": [
    "#### 9.1、出现的问题\n",
    "- 造成上述状况的原因是，返回函数引用了变量i，i并非立即执行，而是等到三个函数都返回的时候才统一使用，此时i已经变成了3，最终调用的时候，都返回 3 * 3\n",
    "- 此问题描述成：返回闭包时，返回函数不能引用任何循环变量\n",
    "- 解决方案：再创建一个函数，用该函数的参数绑定循环变量的当前值，无论该循环变量以后如何改变，已经绑定的函数参数值不再改变"
   ]
  },
  {
   "cell_type": "code",
   "execution_count": 4,
   "metadata": {},
   "outputs": [
    {
     "name": "stdout",
     "output_type": "stream",
     "text": [
      "1\n",
      "4\n",
      "9\n"
     ]
    }
   ],
   "source": [
    "# 修改上述函数：\n",
    "def count1():\n",
    "    def g(j):\n",
    "        def f():\n",
    "            return j*j\n",
    "        return f\n",
    "    fs=[]\n",
    "    for i in range(1,4):\n",
    "        fs.append(g(i))\n",
    "    return fs\n",
    "\n",
    "f1,f2,f3 = count1()\n",
    "print(f1())\n",
    "print(f2())\n",
    "print(f3())"
   ]
  },
  {
   "cell_type": "markdown",
   "metadata": {},
   "source": [
    "### 10、装饰器"
   ]
  },
  {
   "cell_type": "code",
   "execution_count": 5,
   "metadata": {},
   "outputs": [],
   "source": [
    "# 现在有新的需求：\n",
    "# 对hello功能进行扩展，每次打印hello之前打印当前系统时间，而实现这个功能又不能改动现有代码\n",
    "# 使用装饰器"
   ]
  },
  {
   "cell_type": "markdown",
   "metadata": {},
   "source": [
    "- 在不改动函数代码的基础上无限制扩展函数功能的一种机制，本质上讲，装饰器是一个返回函数的高阶函数\n",
    "- 装饰器的使用：使用@语法，即在要扩展的函数定义前使用@+函数名"
   ]
  },
  {
   "cell_type": "code",
   "execution_count": 7,
   "metadata": {},
   "outputs": [],
   "source": [
    "# 任务：对hello函数进行功能扩展，每次执行hello打印前打印当前时间\n",
    "\n",
    "import time\n",
    "# 高阶函数，以函数作为参数\n",
    "def printTime(func):\n",
    "    def wrapper(*args,**kwargs):\n",
    "        print(\"Time:\",time.ctime())\n",
    "        return func(*args,**kwargs)\n",
    "    return wrapper"
   ]
  },
  {
   "cell_type": "code",
   "execution_count": 8,
   "metadata": {
    "scrolled": true
   },
   "outputs": [
    {
     "name": "stdout",
     "output_type": "stream",
     "text": [
      "Time: Fri Feb  1 11:30:46 2019\n",
      "Hello!\n"
     ]
    }
   ],
   "source": [
    "# 上面定义了装饰器，使用的时候需要用到@，@是Python的语法糖\n",
    "@printTime\n",
    "def say_hello():\n",
    "    print(\"Hello!\")\n",
    "    \n",
    "say_hello()"
   ]
  },
  {
   "cell_type": "code",
   "execution_count": 9,
   "metadata": {},
   "outputs": [
    {
     "name": "stdout",
     "output_type": "stream",
     "text": [
      "Time: Fri Feb  1 11:33:42 2019\n",
      "Nice to meet u\n",
      "Let me show U something\n"
     ]
    }
   ],
   "source": [
    "# 装饰器的好处是，一旦定义，则可以装饰任何函数\n",
    "# 一旦被其装饰，则把装饰器的功能直接添加到定义函数的功能上\n",
    "@printTime\n",
    "def hello():\n",
    "    print(\"Nice to meet u\")\n",
    "    print(\"Let me show U something\")\n",
    "    \n",
    "hello()"
   ]
  },
  {
   "cell_type": "code",
   "execution_count": 11,
   "metadata": {},
   "outputs": [
    {
     "name": "stdout",
     "output_type": "stream",
     "text": [
      "Time Fri Feb  1 11:37:15 2019\n",
      "Nice to meet u\n",
      "Let me show U something\n"
     ]
    }
   ],
   "source": [
    "# 上面对函数的装饰器使用了系统定义的语法糖\n",
    "# 下面开始手动执行装饰器\n",
    "# 先定义函数\n",
    "\n",
    "def hello():\n",
    "    print(\"Nice to meet u\")\n",
    "    print(\"Let me show U something\")\n",
    "    \n",
    "def printTime1(func):\n",
    "    import time\n",
    "    def wrapper(*args,**kwargs):\n",
    "        print(\"Time\",time.ctime())\n",
    "        return func(*args,**kwargs)\n",
    "    return wrapper\n",
    "\n",
    "hello = printTime1(hello)\n",
    "\n",
    "hello()\n",
    "        "
   ]
  },
  {
   "cell_type": "markdown",
   "metadata": {},
   "source": [
    "### 11、偏函数\n",
    "- 参数固定的函数，相当于一个有特定参数的函数体\n",
    "- functools.partial的作用是，把一个函数某些参数固定，返回一个新函数"
   ]
  },
  {
   "cell_type": "code",
   "execution_count": 14,
   "metadata": {},
   "outputs": [
    {
     "data": {
      "text/plain": [
       "74565"
      ]
     },
     "execution_count": 14,
     "metadata": {},
     "output_type": "execute_result"
    }
   ],
   "source": [
    "# \n",
    "import functools\n",
    "# 实现int16功能\n",
    "int16 = functools.partial(int,base=16)\n",
    "int16(\"12345\")"
   ]
  }
 ],
 "metadata": {
  "kernelspec": {
   "display_name": "Python 3",
   "language": "python",
   "name": "python3"
  },
  "language_info": {
   "codemirror_mode": {
    "name": "ipython",
    "version": 3
   },
   "file_extension": ".py",
   "mimetype": "text/x-python",
   "name": "python",
   "nbconvert_exporter": "python",
   "pygments_lexer": "ipython3",
   "version": "3.6.5"
  }
 },
 "nbformat": 4,
 "nbformat_minor": 2
}
