{
 "cells": [
  {
   "cell_type": "markdown",
   "metadata": {},
   "source": [
    "# 异常\n",
    "- 广义上的错误分为错误和异常\n",
    "- 错误指的是可以人为避免\n",
    "- 异常指的是在语法逻辑正确的前提下，出现的问题\n",
    "- 在Python里，异常是一个类，可以处理和使用"
   ]
  },
  {
   "cell_type": "markdown",
   "metadata": {},
   "source": [
    "# 异常的分类\n",
    "- BaseException\n",
    "    - SystemExit\n",
    "    - KeyboardInterrupt\n",
    "    - GeneratorExit\n",
    "    - Exception\n",
    "        - StopIteration\n",
    "        - StopAsyncIteration\n",
    "        - ArithmeticError\n",
    "            - FloatingPointError\n",
    "            - OverflowError\n",
    "            - ZeroDivisionError\n",
    "        - AssertionError\n",
    "        - AttributeError\n",
    "        - BufferError\n",
    "        - EOFError\n",
    "        - ImportError\n",
    "            - ModuleNotFoundError\n",
    "        - LookupError\n",
    "            - IndexError\n",
    "            - KeyError\n",
    "        - MemoryError\n",
    "        - NameError\n",
    "            - UnboundLocalError\n",
    "        - OSError\n",
    "            - BlockingIOError\n",
    "            - ChildProcessError\n",
    "            - ConnectionError\n",
    "                 - BrokenPipeError\n",
    "                 - ConnectionAbortedError\n",
    "                 - ConnectionRefusedError\n",
    "                 - ConnectionResetError\n",
    "            - FileExistsError\n",
    "            - FileNotFoundError\n",
    "            - InterruptedError\n",
    "            - IsADirectoryError\n",
    "            - NotADirectoryError\n",
    "            - PermissionError\n",
    "            - ProcessLookupError\n",
    "            - TimeoutError\n",
    "        - ReferenceError\n",
    "        - RuntimeError\n",
    "            - NotImplementedError\n",
    "            - RecursionError\n",
    "        - SyntaxError\n",
    "            - IndentationError\n",
    "            - TabError\n",
    "        - SystemError\n",
    "        - TypeError\n",
    "        - ValueError\n",
    "            - UnicodeError\n",
    "                - UnicodeDecodeError\n",
    "                - UnicodeEncodeError\n",
    "                - UnicodeTranslateError\n",
    "        - Warning\n",
    "            - DeprecationWarning\n",
    "            - PendingDeprecationWarning\n",
    "            - RuntimeWarning\n",
    "            - SyntaxWarning\n",
    "            - UserWarning\n",
    "            - FutureWarning\n",
    "            - ImportWarning\n",
    "            - UnicodeWarning\n",
    "            - BytesWarning\n",
    "            - ResourceWarning"
   ]
  },
  {
   "cell_type": "markdown",
   "metadata": {},
   "source": [
    "# 异常处理\n",
    "- 不能保证程序永远正确运行\n",
    "- 但是，必须保证程序在最后的情况下得到的问题被妥善处理\n",
    "- Python的异常处理模块全部语法为：\n",
    "：\n",
    "\n",
    "    try：\n",
    "        1、尝试实现某个操作\n",
    "        2、如果没出现异常，任务就可以完成\n",
    "        3、如果出现异常，将异常从当前代码块扔出去尝试解决异常\n",
    "    （# 如果有异常，则在except内执行一个）   \n",
    "    except 异常类型1：\n",
    "        解决方案1 ：用于尝试在此此处处理异常解决问题\n",
    "        \n",
    "    except 异常类型2：\n",
    "        解决方案2 ：用于尝试在此此处处理异常解决问题\n",
    "        \n",
    "        ...（可以有多个except）\n",
    "    \n",
    "    except （异常类型1，异常类型2，...）：\n",
    "        解决方案：所有异常的解决方案\n",
    "     （如果没有异常，则执行else内的内容）   \n",
    "    else:\n",
    "        如果没有出现任何异常，将会执行此处代码\n",
    "       （最后都将执行finally内的内容） \n",
    "    finally：\n",
    "        无论是否有异常都将执行此处的代码\n",
    "    \n",
    "- 流程 \n",
    "    - 1、执行try下面的语句\n",
    "    - 2、如果出现异常，则在except语句里查找对应异常进行处理\n",
    "    - 3、如果没有出现异常，则执行else语句内容\n",
    "    - 4、最后，不管是否出现异常，都将执行finally语句\n",
    "- 除了except（最少一个）以外，else和finally可选\n",
    "\n",
    "       \n",
    "        "
   ]
  },
  {
   "cell_type": "code",
   "execution_count": 1,
   "metadata": {},
   "outputs": [
    {
     "name": "stdout",
     "output_type": "stream",
     "text": [
      "Please inout a num:0\n",
      "The error input!\n"
     ]
    }
   ],
   "source": [
    "# 异常处理简单例子 - 1\n",
    "try:\n",
    "    num = float(input(\"Please inout a num:\"))\n",
    "    result = 100/num\n",
    "    print(\"The result is {0}\".format(result))\n",
    "except:\n",
    "    print(\"The error input!\")\n",
    "exit()"
   ]
  },
  {
   "cell_type": "code",
   "execution_count": 3,
   "metadata": {},
   "outputs": [
    {
     "name": "stdout",
     "output_type": "stream",
     "text": [
      "Please inout a num:0\n",
      "The error input!\n",
      "float division by zero\n"
     ]
    }
   ],
   "source": [
    "# 异常处理简单例子 - 2\n",
    "try:\n",
    "    num = float(input(\"Please inout a num:\"))\n",
    "    result = 100/num\n",
    "    print(\"The result is {0}\".format(result))\n",
    "\n",
    "# 异常捕获\n",
    "# 以下语句是捕获ZeroDivisionRrror异常并实例化实例e,注意e是一个实例\n",
    "except ZeroDivisionError as e:\n",
    "    print(\"The error input!\")\n",
    "    print(e) # 故打印e实际上是打印实例e\n",
    "# exit是退出程序的意思\n",
    "# 直接打印e，实际上实现了class ZeroDivisionError中的__str__方法\n",
    "# __getattribute__方法：对类实例中的每个属性的访问都有效，访问属性后会自动执行__getattribute__方法中的内容\n",
    "# 与__getattr__的区别：__getattr__是当访问类实例中不存在的某一属性会自动触发"
   ]
  },
  {
   "cell_type": "code",
   "execution_count": 4,
   "metadata": {},
   "outputs": [
    {
     "name": "stdout",
     "output_type": "stream",
     "text": [
      "自定义异常类型\n"
     ]
    }
   ],
   "source": [
    "# 自定义一个异常类\n",
    "class SelfError(Exception):\n",
    "    def __init__(self,message):\n",
    "        self.message = message\n",
    "        return None\n",
    "    def __str__(self):\n",
    "        return self.message\n",
    "    pass\n",
    "\n",
    "try:\n",
    "    raise(SelfError(\"自定义异常类型\"))\n",
    "except SelfError as e:\n",
    "    print(e)\n"
   ]
  },
  {
   "cell_type": "code",
   "execution_count": 6,
   "metadata": {},
   "outputs": [
    {
     "name": "stdout",
     "output_type": "stream",
     "text": [
      "Help on class ZeroDivisionError in module builtins:\n",
      "\n",
      "class ZeroDivisionError(ArithmeticError)\n",
      " |  Second argument to a division or modulo operation was zero.\n",
      " |  \n",
      " |  Method resolution order:\n",
      " |      ZeroDivisionError\n",
      " |      ArithmeticError\n",
      " |      Exception\n",
      " |      BaseException\n",
      " |      object\n",
      " |  \n",
      " |  Methods defined here:\n",
      " |  \n",
      " |  __init__(self, /, *args, **kwargs)\n",
      " |      Initialize self.  See help(type(self)) for accurate signature.\n",
      " |  \n",
      " |  __new__(*args, **kwargs) from builtins.type\n",
      " |      Create and return a new object.  See help(type) for accurate signature.\n",
      " |  \n",
      " |  ----------------------------------------------------------------------\n",
      " |  Methods inherited from BaseException:\n",
      " |  \n",
      " |  __delattr__(self, name, /)\n",
      " |      Implement delattr(self, name).\n",
      " |  \n",
      " |  __getattribute__(self, name, /)\n",
      " |      Return getattr(self, name).\n",
      " |  \n",
      " |  __reduce__(...)\n",
      " |      helper for pickle\n",
      " |  \n",
      " |  __repr__(self, /)\n",
      " |      Return repr(self).\n",
      " |  \n",
      " |  __setattr__(self, name, value, /)\n",
      " |      Implement setattr(self, name, value).\n",
      " |  \n",
      " |  __setstate__(...)\n",
      " |  \n",
      " |  __str__(self, /)\n",
      " |      Return str(self).\n",
      " |  \n",
      " |  with_traceback(...)\n",
      " |      Exception.with_traceback(tb) --\n",
      " |      set self.__traceback__ to tb and return self.\n",
      " |  \n",
      " |  ----------------------------------------------------------------------\n",
      " |  Data descriptors inherited from BaseException:\n",
      " |  \n",
      " |  __cause__\n",
      " |      exception cause\n",
      " |  \n",
      " |  __context__\n",
      " |      exception context\n",
      " |  \n",
      " |  __dict__\n",
      " |  \n",
      " |  __suppress_context__\n",
      " |  \n",
      " |  __traceback__\n",
      " |  \n",
      " |  args\n",
      "\n"
     ]
    }
   ],
   "source": [
    "help(ZeroDivisionError)\n",
    "# https://www.cnblogs.com/Keep-Ambition/p/7306074.html"
   ]
  },
  {
   "cell_type": "code",
   "execution_count": null,
   "metadata": {},
   "outputs": [],
   "source": [
    "# 异常处理简单例子 - 3\n",
    "try:\n",
    "    num = float(input(\"Please inout a num:\"))\n",
    "    result = 100/num\n",
    "    print(\"The result is {0}\".format(result))\n",
    "    \n",
    "# 如果是多种error的情况，需要把越具体的错误越往前放\n",
    "# except顺序的规律为：类级数越低的异常类型放在前面，类级数越高的异常类型放在后面\n",
    "\n",
    "# 在处理异常的时候，一旦拦截到某一个异常，则不再继续往下查看，直接进行下一组代码，即有finally则执行finally语句块，否则就执行下一组代码\n",
    "except ZeroDivisionError as e:\n",
    "    print(e)\n",
    "    \n",
    "except SyntaxError as e:\n",
    "    print(e)\n",
    "    \n",
    "except ArithmaticError as e:\n",
    "    print(e)\n",
    "\n",
    "except Exception as e:\n",
    "    print(e)"
   ]
  }
 ],
 "metadata": {
  "kernelspec": {
   "display_name": "Python 3",
   "language": "python",
   "name": "python3"
  },
  "language_info": {
   "codemirror_mode": {
    "name": "ipython",
    "version": 3
   },
   "file_extension": ".py",
   "mimetype": "text/x-python",
   "name": "python",
   "nbconvert_exporter": "python",
   "pygments_lexer": "ipython3",
   "version": "3.6.5"
  }
 },
 "nbformat": 4,
 "nbformat_minor": 2
}
