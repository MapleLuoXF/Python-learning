{
 "cells": [
  {
   "cell_type": "markdown",
   "metadata": {},
   "source": [
    "# 常用模块\n",
    "- calendar\n",
    "- time\n",
    "- datetime\n",
    "- timeit\n",
    "- os\n",
    "- shutil\n",
    "- zip\n",
    "- math\n",
    "- string\n",
    "- 上述所有模块使用理论上都应该先导入，string是特例\n",
    "- calendar,time,datetime的区别参考中文意思"
   ]
  },
  {
   "cell_type": "markdown",
   "metadata": {},
   "source": [
    "# calendar\n",
    "\n",
    "- 跟日历相关的模块"
   ]
  },
  {
   "cell_type": "code",
   "execution_count": 4,
   "metadata": {},
   "outputs": [
    {
     "name": "stdout",
     "output_type": "stream",
     "text": [
      "<class 'str'>\n",
      "                                  2019\n",
      "\n",
      "      January                   February                   March\n",
      "Mo Tu We Th Fr Sa Su      Mo Tu We Th Fr Sa Su      Mo Tu We Th Fr Sa Su\n",
      "    1  2  3  4  5  6                   1  2  3                   1  2  3\n",
      " 7  8  9 10 11 12 13       4  5  6  7  8  9 10       4  5  6  7  8  9 10\n",
      "14 15 16 17 18 19 20      11 12 13 14 15 16 17      11 12 13 14 15 16 17\n",
      "21 22 23 24 25 26 27      18 19 20 21 22 23 24      18 19 20 21 22 23 24\n",
      "28 29 30 31               25 26 27 28               25 26 27 28 29 30 31\n",
      "\n",
      "       April                      May                       June\n",
      "Mo Tu We Th Fr Sa Su      Mo Tu We Th Fr Sa Su      Mo Tu We Th Fr Sa Su\n",
      " 1  2  3  4  5  6  7             1  2  3  4  5                      1  2\n",
      " 8  9 10 11 12 13 14       6  7  8  9 10 11 12       3  4  5  6  7  8  9\n",
      "15 16 17 18 19 20 21      13 14 15 16 17 18 19      10 11 12 13 14 15 16\n",
      "22 23 24 25 26 27 28      20 21 22 23 24 25 26      17 18 19 20 21 22 23\n",
      "29 30                     27 28 29 30 31            24 25 26 27 28 29 30\n",
      "\n",
      "        July                     August                  September\n",
      "Mo Tu We Th Fr Sa Su      Mo Tu We Th Fr Sa Su      Mo Tu We Th Fr Sa Su\n",
      " 1  2  3  4  5  6  7                1  2  3  4                         1\n",
      " 8  9 10 11 12 13 14       5  6  7  8  9 10 11       2  3  4  5  6  7  8\n",
      "15 16 17 18 19 20 21      12 13 14 15 16 17 18       9 10 11 12 13 14 15\n",
      "22 23 24 25 26 27 28      19 20 21 22 23 24 25      16 17 18 19 20 21 22\n",
      "29 30 31                  26 27 28 29 30 31         23 24 25 26 27 28 29\n",
      "                                                    30\n",
      "\n",
      "      October                   November                  December\n",
      "Mo Tu We Th Fr Sa Su      Mo Tu We Th Fr Sa Su      Mo Tu We Th Fr Sa Su\n",
      "    1  2  3  4  5  6                   1  2  3                         1\n",
      " 7  8  9 10 11 12 13       4  5  6  7  8  9 10       2  3  4  5  6  7  8\n",
      "14 15 16 17 18 19 20      11 12 13 14 15 16 17       9 10 11 12 13 14 15\n",
      "21 22 23 24 25 26 27      18 19 20 21 22 23 24      16 17 18 19 20 21 22\n",
      "28 29 30 31               25 26 27 28 29 30         23 24 25 26 27 28 29\n",
      "                                                    30 31\n",
      "\n"
     ]
    }
   ],
   "source": [
    "# 使用需要先导入\n",
    "import calendar\n",
    "# 参数\n",
    "# w = 每个日期之间的间隔字符数\n",
    "# l = 每周所占用的行数\n",
    "# c = 每个月之间的间隔间隔数\n",
    "cal = calendar.calendar(2019)\n",
    "print(type(cal))\n",
    "print(cal)"
   ]
  },
  {
   "cell_type": "code",
   "execution_count": 5,
   "metadata": {},
   "outputs": [
    {
     "data": {
      "text/plain": [
       "True"
      ]
     },
     "execution_count": 5,
     "metadata": {},
     "output_type": "execute_result"
    }
   ],
   "source": [
    "# isleap:判断某一年是否是闰年\n",
    "# 返回一个布尔值\n",
    "calendar.isleap(2019)\n",
    "calendar.isleap(2000)\n"
   ]
  },
  {
   "cell_type": "code",
   "execution_count": 6,
   "metadata": {},
   "outputs": [
    {
     "data": {
      "text/plain": [
       "4"
      ]
     },
     "execution_count": 6,
     "metadata": {},
     "output_type": "execute_result"
    }
   ],
   "source": [
    "# leapdays:获取指定年份之间的闰年的个数\n",
    "calendar.leapdays(2001,2018)"
   ]
  },
  {
   "cell_type": "code",
   "execution_count": 8,
   "metadata": {},
   "outputs": [
    {
     "name": "stdout",
     "output_type": "stream",
     "text": [
      "     March 2018\n",
      "Mo Tu We Th Fr Sa Su\n",
      "          1  2  3  4\n",
      " 5  6  7  8  9 10 11\n",
      "12 13 14 15 16 17 18\n",
      "19 20 21 22 23 24 25\n",
      "26 27 28 29 30 31\n",
      "\n"
     ]
    }
   ],
   "source": [
    "# month() 获取某个月的日子字符串\n",
    "# 格式：calendar.mouth(年，月)\n",
    "# 返回值：月日历的字符串\n",
    "March = calendar.month(2018,3)\n",
    "print(March)"
   ]
  },
  {
   "cell_type": "code",
   "execution_count": 13,
   "metadata": {
    "scrolled": true
   },
   "outputs": [
    {
     "name": "stdout",
     "output_type": "stream",
     "text": [
      "(1, 31)\n"
     ]
    }
   ],
   "source": [
    "# monthrange() 获取一个月的周几开始和天数\n",
    "# 格式：calendar.monthrange(年，月)\n",
    "# 返回值：是一个元祖（周几开始，总的天数）\n",
    "# 注意：周默认0 - 6表示周一到周日\n",
    "m = calendar.monthrange(2019,1)\n",
    "print(m)"
   ]
  },
  {
   "cell_type": "code",
   "execution_count": 16,
   "metadata": {},
   "outputs": [
    {
     "name": "stdout",
     "output_type": "stream",
     "text": [
      "<class 'list'>\n",
      "[[0, 1, 2, 3, 4, 5, 6], [7, 8, 9, 10, 11, 12, 13], [14, 15, 16, 17, 18, 19, 20], [21, 22, 23, 24, 25, 26, 27], [28, 29, 30, 31, 0, 0, 0]]\n"
     ]
    }
   ],
   "source": [
    "# monthcalendar() 返回一个月每天的矩阵列表\n",
    "# 格式：calendar.monthcalendar(年，月)\n",
    "# 返回值：二级矩阵\n",
    "# 注意：矩阵中没有天数用0表示\n",
    "m = calendar.monthcalendar(2019,1)\n",
    "print(type(m))\n",
    "print(m)"
   ]
  },
  {
   "cell_type": "code",
   "execution_count": 18,
   "metadata": {},
   "outputs": [
    {
     "name": "stdout",
     "output_type": "stream",
     "text": [
      "                                  2019\n",
      "\n",
      "      January                   February                   March\n",
      "Mo Tu We Th Fr Sa Su      Mo Tu We Th Fr Sa Su      Mo Tu We Th Fr Sa Su\n",
      "    1  2  3  4  5  6                   1  2  3                   1  2  3\n",
      " 7  8  9 10 11 12 13       4  5  6  7  8  9 10       4  5  6  7  8  9 10\n",
      "14 15 16 17 18 19 20      11 12 13 14 15 16 17      11 12 13 14 15 16 17\n",
      "21 22 23 24 25 26 27      18 19 20 21 22 23 24      18 19 20 21 22 23 24\n",
      "28 29 30 31               25 26 27 28               25 26 27 28 29 30 31\n",
      "\n",
      "       April                      May                       June\n",
      "Mo Tu We Th Fr Sa Su      Mo Tu We Th Fr Sa Su      Mo Tu We Th Fr Sa Su\n",
      " 1  2  3  4  5  6  7             1  2  3  4  5                      1  2\n",
      " 8  9 10 11 12 13 14       6  7  8  9 10 11 12       3  4  5  6  7  8  9\n",
      "15 16 17 18 19 20 21      13 14 15 16 17 18 19      10 11 12 13 14 15 16\n",
      "22 23 24 25 26 27 28      20 21 22 23 24 25 26      17 18 19 20 21 22 23\n",
      "29 30                     27 28 29 30 31            24 25 26 27 28 29 30\n",
      "\n",
      "        July                     August                  September\n",
      "Mo Tu We Th Fr Sa Su      Mo Tu We Th Fr Sa Su      Mo Tu We Th Fr Sa Su\n",
      " 1  2  3  4  5  6  7                1  2  3  4                         1\n",
      " 8  9 10 11 12 13 14       5  6  7  8  9 10 11       2  3  4  5  6  7  8\n",
      "15 16 17 18 19 20 21      12 13 14 15 16 17 18       9 10 11 12 13 14 15\n",
      "22 23 24 25 26 27 28      19 20 21 22 23 24 25      16 17 18 19 20 21 22\n",
      "29 30 31                  26 27 28 29 30 31         23 24 25 26 27 28 29\n",
      "                                                    30\n",
      "\n",
      "      October                   November                  December\n",
      "Mo Tu We Th Fr Sa Su      Mo Tu We Th Fr Sa Su      Mo Tu We Th Fr Sa Su\n",
      "    1  2  3  4  5  6                   1  2  3                         1\n",
      " 7  8  9 10 11 12 13       4  5  6  7  8  9 10       2  3  4  5  6  7  8\n",
      "14 15 16 17 18 19 20      11 12 13 14 15 16 17       9 10 11 12 13 14 15\n",
      "21 22 23 24 25 26 27      18 19 20 21 22 23 24      16 17 18 19 20 21 22\n",
      "28 29 30 31               25 26 27 28 29 30         23 24 25 26 27 28 29\n",
      "                                                    30 31\n",
      "\n"
     ]
    }
   ],
   "source": [
    "# prcal：print calendar 直接打印日历\n",
    "# 格式：calendar.prcal(年份)\n",
    "calendar.prcal(2019)"
   ]
  },
  {
   "cell_type": "code",
   "execution_count": 19,
   "metadata": {},
   "outputs": [
    {
     "name": "stdout",
     "output_type": "stream",
     "text": [
      "    January 2019\n",
      "Mo Tu We Th Fr Sa Su\n",
      "    1  2  3  4  5  6\n",
      " 7  8  9 10 11 12 13\n",
      "14 15 16 17 18 19 20\n",
      "21 22 23 24 25 26 27\n",
      "28 29 30 31\n",
      "    January 2019\n",
      "Mo Tu We Th Fr Sa Su\n",
      "    1  2  3  4  5  6\n",
      " 7  8  9 10 11 12 13\n",
      "14 15 16 17 18 19 20\n",
      "21 22 23 24 25 26 27\n",
      "28 29 30 31\n",
      "None\n"
     ]
    }
   ],
   "source": [
    "# prmonth:直接打印整个月的日历\n",
    "# 格式：calendar.prmonth(月份)\n",
    "# 返回值：None\n",
    "m = calendar.prmonth(2019,1)\n",
    "calendar.prmonth(2019,1)\n",
    "print(m)"
   ]
  },
  {
   "cell_type": "markdown",
   "metadata": {},
   "source": [
    "# time模块\n",
    "## 时间戳\n",
    "    - 一个时间表示单位，根据不同语言，可以是整数或者浮点数\n",
    "    - 是从1970年1月1日0时0分0秒到现在经历的秒数\n",
    "    - 如果表示的时间是1970年以前或者太遥远的未来，可能出现异常\n",
    "    - 32位操作系统能够支持到2039年\n",
    "    \n",
    "## UTC时间\n",
    "    - UTC又称为世界协调时间以英国的格林尼治天文所在地区的时间作为参考的时间，也叫做世界标准时间\n",
    "    - 中国时间是 UTC + 8 东八区\n",
    "\n",
    "## 夏令时\n",
    "    - 夏令时就是在夏天的时候将时间调快一小时\n",
    "    \n",
    "## 时间元组\n",
    "    - 一个包含时间内容的普通元组\n"
   ]
  },
  {
   "cell_type": "code",
   "execution_count": 2,
   "metadata": {},
   "outputs": [
    {
     "name": "stdout",
     "output_type": "stream",
     "text": [
      "-28800\n"
     ]
    }
   ],
   "source": [
    "import time\n",
    "# 时间模块的属性\n",
    "# timezone：当前时区和UTC时间相差的秒数，在没有夏令时的情况下的间隔\n",
    "# 东八区的固定是-28800\n",
    "# altzone：获取当前时区与UTC时间相差的秒数，在有夏令时的情况下\n",
    "# daylight：测当前是否是夏令时时间状态，0 表示是\n",
    "print(time.timezone)"
   ]
  },
  {
   "cell_type": "code",
   "execution_count": 26,
   "metadata": {},
   "outputs": [
    {
     "data": {
      "text/plain": [
       "1548341640.339215"
      ]
     },
     "execution_count": 26,
     "metadata": {},
     "output_type": "execute_result"
    }
   ],
   "source": [
    "# 得到时间戳\n",
    "time.time()"
   ]
  },
  {
   "cell_type": "code",
   "execution_count": 36,
   "metadata": {},
   "outputs": [
    {
     "name": "stdout",
     "output_type": "stream",
     "text": [
      "time.struct_time(tm_year=2019, tm_mon=1, tm_mday=24, tm_hour=23, tm_min=21, tm_sec=46, tm_wday=3, tm_yday=24, tm_isdst=0)\n",
      "23\n"
     ]
    }
   ],
   "source": [
    "# localtime,得到当前时间的时间结构\n",
    "# 可以通过点号操作符得到相应的属性元素的内容\n",
    "t = time.localtime()\n",
    "print(t)\n",
    "print(t.tm_hour)"
   ]
  },
  {
   "cell_type": "code",
   "execution_count": 28,
   "metadata": {},
   "outputs": [
    {
     "name": "stdout",
     "output_type": "stream",
     "text": [
      "Thu Jan 24 22:59:21 2019\n"
     ]
    }
   ],
   "source": [
    "# asctime() 返回元组的正常字符串之后的时间格式\n",
    "# 格式：time.asctime（时间元组）\n",
    "# 返回值：(是一个字符串) 周几 月份 几号 几时：几分：几秒 年数\n",
    "\n",
    "t = time.asctime(time.localtime())\n",
    "print(t)"
   ]
  },
  {
   "cell_type": "code",
   "execution_count": 29,
   "metadata": {},
   "outputs": [
    {
     "name": "stdout",
     "output_type": "stream",
     "text": [
      "<class 'str'>\n",
      "Thu Jan 24 23:11:20 2019\n"
     ]
    }
   ],
   "source": [
    "# ctime：获取字符串化的当前时间\n",
    "t = time.ctime()\n",
    "print(type(t))\n",
    "print(t)"
   ]
  },
  {
   "cell_type": "code",
   "execution_count": 33,
   "metadata": {},
   "outputs": [
    {
     "name": "stdout",
     "output_type": "stream",
     "text": [
      "<class 'float'>\n",
      "1548342799.0\n"
     ]
    }
   ],
   "source": [
    "# mktime:使用时间元组获取对应的时间戳\n",
    "# 格式：time.mktime(时间元组)\n",
    "# 返回值：浮点数时间戳\n",
    "\n",
    "lt = time.localtime()\n",
    "ts = time.mktime(lt)\n",
    "print(type(ts))\n",
    "print(ts)"
   ]
  },
  {
   "cell_type": "code",
   "execution_count": 34,
   "metadata": {},
   "outputs": [],
   "source": [
    "# clock:获取CPU时间，3.0—3.3版本直接使用，3.6版本调用有问题"
   ]
  },
  {
   "cell_type": "code",
   "execution_count": 35,
   "metadata": {
    "scrolled": true
   },
   "outputs": [
    {
     "name": "stdout",
     "output_type": "stream",
     "text": [
      "0\n",
      "1\n",
      "2\n",
      "3\n",
      "4\n",
      "5\n",
      "6\n",
      "7\n",
      "8\n",
      "9\n"
     ]
    }
   ],
   "source": [
    "# sleep:使程序进入睡眠，n秒后继续\n",
    "for i in range(10):\n",
    "    print(i)\n",
    "    time.sleep(1)"
   ]
  },
  {
   "cell_type": "code",
   "execution_count": 16,
   "metadata": {},
   "outputs": [
    {
     "name": "stdout",
     "output_type": "stream",
     "text": [
      "2019年01月24日23时51分59秒\n"
     ]
    }
   ],
   "source": [
    "# strftime:将时间元组转化为自定义的字符串格式\n",
    "\n",
    "# 把时间表示成 ...年...月...日 ..(时)：...(分)\n",
    "t = time.localtime()\n",
    "tf = time.strftime('%Y{y}%m{m}%d{d}%H{h}%M{f}%S{s}',t).format(y='年',m='月',d='日',h='时',f='分',s='秒')\n",
    "print(tf)"
   ]
  },
  {
   "cell_type": "markdown",
   "metadata": {},
   "source": [
    "# datetime模块\n",
    "- datetime提供日期和时间的运算和表示"
   ]
  },
  {
   "cell_type": "code",
   "execution_count": 17,
   "metadata": {},
   "outputs": [],
   "source": [
    "import datetime"
   ]
  },
  {
   "cell_type": "code",
   "execution_count": 21,
   "metadata": {},
   "outputs": [
    {
     "name": "stdout",
     "output_type": "stream",
     "text": [
      "2018-01-25\n",
      "25\n",
      "2018\n",
      "1\n"
     ]
    }
   ],
   "source": [
    "# datetime常见属性\n",
    "# datetime.date:一个理想和的日期，提供year，month和day属性\n",
    "t = datetime.date(2018,1,25)\n",
    "print(t)\n",
    "print(t.day)\n",
    "print(t.year)\n",
    "print(t.month)\n",
    "# 其他属性：\n",
    "# 1、datetime.time:提供一个理想和的时间，提供hour，minute，sec等属性\n",
    "# 2、datetime.datetime：提供日期跟时间的组合\n",
    "# 3、datetime.timedelta:提供一个时间差，时间长度"
   ]
  },
  {
   "cell_type": "code",
   "execution_count": 22,
   "metadata": {},
   "outputs": [],
   "source": [
    "# datetime.datetime\n",
    "from datetime import datetime\n",
    "# 常用的类方法：\n",
    "# today\n",
    "# now\n",
    "# utcnow\n",
    "# fromtimestamp：从时间戳返回本地时间\n"
   ]
  },
  {
   "cell_type": "code",
   "execution_count": 29,
   "metadata": {},
   "outputs": [
    {
     "name": "stdout",
     "output_type": "stream",
     "text": [
      "2019-01-25 11:08:14\n",
      "2019-01-25 12:08:14\n"
     ]
    }
   ],
   "source": [
    "# datetime.timedelta\n",
    "# 表示一个时间间隔\n",
    "from datetime import timedelta,datetime\n",
    "\n",
    "t1 = datetime.now()\n",
    "print(t1.strftime(\"%Y-%m-%d %H:%M:%S\"))\n",
    "td = timedelta(hours=1)\n",
    "print((t1+td).strftime(\"%Y-%m-%d %H:%M:%S\"))"
   ]
  },
  {
   "cell_type": "code",
   "execution_count": 30,
   "metadata": {},
   "outputs": [
    {
     "name": "stdout",
     "output_type": "stream",
     "text": [
      "2.0001144409179688\n"
     ]
    }
   ],
   "source": [
    "# timeit - 时间测量工具\n",
    "\n",
    "# 测量程序运行时间间隔实验\n",
    "def p():\n",
    "    time.sleep(2.0)\n",
    "    \n",
    "t1 = time.time()\n",
    "p()\n",
    "print(time.time()-t1)"
   ]
  },
  {
   "cell_type": "code",
   "execution_count": 40,
   "metadata": {},
   "outputs": [
    {
     "name": "stdout",
     "output_type": "stream",
     "text": [
      "0.11187541107551624\n",
      "0.041672475536472575\n"
     ]
    }
   ],
   "source": [
    "# 生成列表两种方法比较\n",
    "# 如果单纯比较生成一个列表的时间，可能很难实现\n",
    "import timeit\n",
    "    \n",
    "c = '''\n",
    "sum = []\n",
    "for i in range(1000):\n",
    "    sum.append(i)\n",
    "'''\n",
    "s = '''\n",
    "[i for i in range(1000)]\n",
    "'''\n",
    "t1 = timeit.timeit(stmt = c,number=1000)\n",
    "t2 = timeit.timeit(stmt= s,number=1000)\n",
    "print(t1)\n",
    "print(t2)\n"
   ]
  },
  {
   "cell_type": "code",
   "execution_count": 42,
   "metadata": {},
   "outputs": [
    {
     "name": "stdout",
     "output_type": "stream",
     "text": [
      "0\n",
      "1\n",
      "2\n",
      "0\n",
      "1\n",
      "2\n",
      "0\n",
      "1\n",
      "2\n",
      "0\n",
      "1\n",
      "2\n",
      "0\n",
      "1\n",
      "2\n",
      "0.0005029127027000868\n"
     ]
    }
   ],
   "source": [
    "# timeit 可以执行一个函数，来测量一个函数的执行时间\n",
    "def do():\n",
    "    for i in range(3):\n",
    "        print(\"{0}\".format(i))\n",
    "\n",
    "t = timeit.timeit(stmt=do,number=5)\n",
    "print(t)"
   ]
  },
  {
   "cell_type": "code",
   "execution_count": 45,
   "metadata": {},
   "outputs": [
    {
     "name": "stdout",
     "output_type": "stream",
     "text": [
      "0\n",
      "1\n",
      "2\n",
      "0\n",
      "1\n",
      "2\n",
      "0\n",
      "1\n",
      "2\n",
      "0\n",
      "1\n",
      "2\n",
      "0\n",
      "1\n",
      "2\n",
      "0\n",
      "1\n",
      "2\n",
      "0\n",
      "1\n",
      "2\n",
      "0\n",
      "1\n",
      "2\n",
      "0\n",
      "1\n",
      "2\n",
      "0\n",
      "1\n",
      "2\n",
      "0.0009831601223595499\n"
     ]
    }
   ],
   "source": [
    "s = '''\n",
    "def do(num):\n",
    "    for i in range(num):\n",
    "        print(\"{0}\".format(i))\n",
    "'''\n",
    "'''\n",
    "实际执行顺序：\n",
    "1、def do(num):\n",
    "    for i in range(num):\n",
    "        print(\"{0}\".format(i))\n",
    "2、num=3\n",
    "3、do（num）\n",
    "\n",
    "'''\n",
    "t = timeit.timeit(stmt=do,setup = s+\"num=3\",number=10)\n",
    "print(t)"
   ]
  },
  {
   "cell_type": "markdown",
   "metadata": {},
   "source": [
    "# datetime.datetime模块"
   ]
  },
  {
   "cell_type": "markdown",
   "metadata": {},
   "source": [
    "# os - 操作系统相关\n",
    "- 跟操作系统相关，主要是文件操作\n",
    "- 于系统相关的才做，主要包含在三个模块里\n",
    "    - os，操作系统目录相关\n",
    "    - os.path，系统路径相关操作\n",
    "    - shutil，高级文件操作，目录树的操作，文件赋值，删除，移动\n",
    "- 路径：\n",
    "    - 绝对路径：总是从根目录上开始\n",
    "    - 相对路径：基本以当前环境为开始的一个相对的地方"
   ]
  },
  {
   "cell_type": "markdown",
   "metadata": {},
   "source": [
    "# OS模块"
   ]
  },
  {
   "cell_type": "code",
   "execution_count": 48,
   "metadata": {},
   "outputs": [
    {
     "name": "stdout",
     "output_type": "stream",
     "text": [
      "D:\\jupyter notebook\\图灵学院\\Python高级语法\n"
     ]
    }
   ],
   "source": [
    "# getcwd() ：获取当前的工作目录\n",
    "# 格式：os.getcwd()\n",
    "# 返回值：当前工作目录的字符串\n",
    "# 当前工作目录就是程序在进行文件相关操作，默认查找文件的目录\n",
    "import os\n",
    "mydir= os.getcwd()\n",
    "print(mydir)"
   ]
  },
  {
   "cell_type": "code",
   "execution_count": 49,
   "metadata": {},
   "outputs": [],
   "source": [
    "# chdir() 改变单当前的工作目录\n",
    "# change directory\n",
    "# 格式：os.chdir(路径)\n",
    "# 返回值：无\n"
   ]
  },
  {
   "cell_type": "code",
   "execution_count": 52,
   "metadata": {},
   "outputs": [
    {
     "name": "stdout",
     "output_type": "stream",
     "text": [
      "['.ipynb_checkpoints', 'Python高级语法 - 常用模块.ipynb', 'Python高级语法 - 异常使用.ipynb']\n"
     ]
    }
   ],
   "source": [
    "# listdir() 获取一个目录中所有目录和文件的名称列表\n",
    "\n",
    "ld = os.listdir()\n",
    "print(ld)"
   ]
  },
  {
   "cell_type": "code",
   "execution_count": 53,
   "metadata": {},
   "outputs": [],
   "source": [
    "# makedirs() 递归创建文件夹\n",
    "# 格式：os.makedirs（递归路径）\n",
    "# 返回值：无\n",
    "# 递归路径：多个文件夹层包含的路径就是递归路径"
   ]
  },
  {
   "cell_type": "code",
   "execution_count": 54,
   "metadata": {},
   "outputs": [],
   "source": [
    "# system() 运行系统shell指令\n",
    "# 格式：os.system（系统命令）\n",
    "# 返回值：打开一个shell或者终端界面\n",
    "# 一般推荐使用subprocess代替\n",
    "# ls是列出当前文件和文件夹的指令"
   ]
  },
  {
   "cell_type": "code",
   "execution_count": 56,
   "metadata": {},
   "outputs": [
    {
     "name": "stdout",
     "output_type": "stream",
     "text": [
      "C:\\ProgramData\\Anaconda3;C:\\ProgramData\\Anaconda3\\Library\\mingw-w64\\bin;C:\\ProgramData\\Anaconda3\\Library\\usr\\bin;C:\\ProgramData\\Anaconda3\\Library\\bin;C:\\ProgramData\\Anaconda3\\Scripts;C:\\ProgramData\\Anaconda3;C:\\ProgramData\\Anaconda3\\Library\\mingw-w64\\bin;C:\\ProgramData\\Anaconda3\\Library\\usr\\bin;C:\\ProgramData\\Anaconda3\\Library\\bin;C:\\ProgramData\\Anaconda3\\Scripts;C:\\Windows\\system32;C:\\Windows;C:\\Windows\\System32\\Wbem;C:\\Windows\\System32\\WindowsPowerShell\\v1.0\\;D:\\Matlab\\runtime\\win64;D:\\Matlab\\bin;C:\\Users\\Maple\\AppData\\Local\\Programs\\Python\\Python36\\Scripts\\;C:\\Users\\Maple\\AppData\\Local\\Programs\\Python\\Python36\\;C:\\Users\\Maple\\AppData\\Local\\GitHubDesktop\\bin\n"
     ]
    }
   ],
   "source": [
    "# getenv 获取指定的系统环境变量值\n",
    "# 格式：os.getenv('环境变量名')\n",
    "# 返回值：指定环境变量名对应的值\n",
    "rst = os.getenv('PATH')\n",
    "print(rst)"
   ]
  },
  {
   "cell_type": "code",
   "execution_count": 57,
   "metadata": {},
   "outputs": [],
   "source": [
    "# exit() 退出当前程序\n",
    "# 格式：exit()\n",
    "# 返回值：无"
   ]
  },
  {
   "cell_type": "markdown",
   "metadata": {},
   "source": [
    "# 值部分\n",
    "- os.curdir:current dir 当前目录\n",
    "- os.pardir:parrent dir 父亲目录\n",
    "- os.sep:当前系统的路径分隔符\n",
    "    - windows:\"\\\"\n",
    "    - linux:\"/\"\n",
    "- os.linesep:当前系统的换行符号\n",
    "    - windows:\"\\r\\n\"\n",
    "    - unix,linux,masos:\"\\n\"\n",
    "- os.name:当前系统名称\n",
    "    - windows:nt\n",
    "    - linux:posix"
   ]
  },
  {
   "cell_type": "code",
   "execution_count": 59,
   "metadata": {
    "scrolled": false
   },
   "outputs": [
    {
     "name": "stdout",
     "output_type": "stream",
     "text": [
      ".\n",
      "..\n",
      "\\\n",
      "\r\n",
      "\n",
      "nt\n"
     ]
    }
   ],
   "source": [
    "print(os.curdir)\n",
    "print(os.pardir)\n",
    "print(os.sep)\n",
    "print(os.linesep)\n",
    "print(os.name)"
   ]
  },
  {
   "cell_type": "markdown",
   "metadata": {},
   "source": [
    "# os.path模块，跟路径相关的模块"
   ]
  },
  {
   "cell_type": "code",
   "execution_count": 60,
   "metadata": {},
   "outputs": [
    {
     "name": "stdout",
     "output_type": "stream",
     "text": [
      "D:\\jupyter notebook\\图灵学院\\Python高级语法\n"
     ]
    }
   ],
   "source": [
    "# abspath() 将路径转化为绝对路径\n",
    "# 格式：os.path.abspath('路径')\n",
    "# 返回值：路径的绝对路径形式\n",
    "\n",
    "import os.path as op\n",
    "absp = op.abspath('.')\n",
    "print(absp)"
   ]
  },
  {
   "cell_type": "code",
   "execution_count": 62,
   "metadata": {},
   "outputs": [
    {
     "name": "stdout",
     "output_type": "stream",
     "text": [
      "Python高级语法\n"
     ]
    }
   ],
   "source": [
    "# basename() 获取路径中的文件名部分\n",
    "# 格式：os.path.basename('路径')\n",
    "# 返回值：文件名字符串\n",
    "\n",
    "bn = op.basename('D:\\jupyter notebook\\图灵学院\\Python高级语法')\n",
    "print(bn)"
   ]
  },
  {
   "cell_type": "code",
   "execution_count": 64,
   "metadata": {},
   "outputs": [
    {
     "name": "stdout",
     "output_type": "stream",
     "text": [
      "D:\\jupyter notebook\\图灵学院\\Python高级语法 - 包管理\n"
     ]
    }
   ],
   "source": [
    "# join() 将多个路径拼合成一个路径\n",
    "# 格式：os.path.join(路径1，路径2，...)\n",
    "# 返回值：组合之后的新路径字符串\n",
    "\n",
    "fn = op.abspath('..')\n",
    "bd = \"Python高级语法 - 包管理\"\n",
    "\n",
    "p = op.join(fn,bd)\n",
    "print(p)"
   ]
  },
  {
   "cell_type": "code",
   "execution_count": 65,
   "metadata": {},
   "outputs": [
    {
     "name": "stdout",
     "output_type": "stream",
     "text": [
      "True\n"
     ]
    }
   ],
   "source": [
    "# isdir() 检测是否是目录\n",
    "# 格式：os.path.isdir('路径')\n",
    "# 返回值：布尔值\n",
    "\n",
    "rst = op.isdir('D:\\jupyter notebook\\图灵学院\\Python高级语法')\n",
    "print(rst)"
   ]
  },
  {
   "cell_type": "code",
   "execution_count": 66,
   "metadata": {},
   "outputs": [
    {
     "name": "stdout",
     "output_type": "stream",
     "text": [
      "True\n"
     ]
    }
   ],
   "source": [
    "# exists() 检测文件或者目录是否存在\n",
    "# 格式：os.path.exists(路径)\n",
    "# 返回值：布尔值\n",
    "\n",
    "e = op.exists('D:\\jupyter notebook\\图灵学院\\Python高级语法')\n",
    "print(e)"
   ]
  },
  {
   "cell_type": "markdown",
   "metadata": {},
   "source": [
    "# shutil 模块"
   ]
  },
  {
   "cell_type": "code",
   "execution_count": 67,
   "metadata": {},
   "outputs": [],
   "source": [
    "import shutil\n",
    "# copy() 复制文件\n",
    "# 格式：shutil.copy(来源路径，目标路径)\n",
    "# 返回值：返回目标路径\n",
    "# 拷贝的同时，可以给文件重命"
   ]
  },
  {
   "cell_type": "code",
   "execution_count": 68,
   "metadata": {},
   "outputs": [],
   "source": [
    "# cooy2() 复制文件，保留元数据（文件信息）\n",
    "# 格式：shutil.copy2(来源路径，目标路径)\n",
    "# 返回值：返回目标路径\n",
    "# 注意：copy（）和copy2()的唯一区别在于copy2复制文件时尽量保留元数据"
   ]
  },
  {
   "cell_type": "code",
   "execution_count": 69,
   "metadata": {},
   "outputs": [],
   "source": [
    "# copyfile()将一个文件中的内容复制到另一个文件当中\n",
    "# shutil.copyfile(来源路径，目标路径)\n",
    "# 返回值：无"
   ]
  },
  {
   "cell_type": "code",
   "execution_count": 70,
   "metadata": {},
   "outputs": [],
   "source": [
    "# move() 移动文件、文件夹\n",
    "# 格式：shutil.move(源路径，目标路径)\n",
    "# 返回值：目标路径"
   ]
  },
  {
   "cell_type": "markdown",
   "metadata": {},
   "source": [
    "# 归档和压缩\n",
    "- 归档：把多个文件或者文件夹合并到一个文件当中\n",
    "- 压缩：用算法把多个文件或者文件纸无损或者有损合并到一个文件当中"
   ]
  },
  {
   "cell_type": "code",
   "execution_count": 72,
   "metadata": {},
   "outputs": [
    {
     "name": "stdout",
     "output_type": "stream",
     "text": [
      "Help on function make_archive in module shutil:\n",
      "\n",
      "make_archive(base_name, format, root_dir=None, base_dir=None, verbose=0, dry_run=0, owner=None, group=None, logger=None)\n",
      "    Create an archive file (eg. zip or tar).\n",
      "    \n",
      "    'base_name' is the name of the file to create, minus any format-specific\n",
      "    extension; 'format' is the archive format: one of \"zip\", \"tar\", \"gztar\",\n",
      "    \"bztar\", or \"xztar\".  Or any other registered format.\n",
      "    \n",
      "    'root_dir' is a directory that will be the root directory of the\n",
      "    archive; ie. we typically chdir into 'root_dir' before creating the\n",
      "    archive.  'base_dir' is the directory where we start archiving from;\n",
      "    ie. 'base_dir' will be the common prefix of all files and\n",
      "    directories in the archive.  'root_dir' and 'base_dir' both default\n",
      "    to the current directory.  Returns the name of the archive file.\n",
      "    \n",
      "    'owner' and 'group' are used when creating a tar archive. By default,\n",
      "    uses the current owner and group.\n",
      "\n"
     ]
    }
   ],
   "source": [
    "# make_archive() 归档操作\n",
    "# 格式：shutil.make_archive('归档之后的目录和文件名'，'后缀'，'需要归档的文件')\n",
    "# 返回值：归档后的地址\n",
    "help(shutil.make_archive)"
   ]
  },
  {
   "cell_type": "code",
   "execution_count": 73,
   "metadata": {},
   "outputs": [],
   "source": [
    "# unpack_archive() 解包操作\n",
    "# 格式：unpack_archive('归档文件地址'，解包之后的地址)\n",
    "# 返回值：解包之后的地址"
   ]
  },
  {
   "cell_type": "markdown",
   "metadata": {},
   "source": [
    "# random\n",
    "- 随机数\n",
    "- 所有的随机模块都是伪随机"
   ]
  },
  {
   "cell_type": "code",
   "execution_count": 75,
   "metadata": {},
   "outputs": [],
   "source": [
    "import random"
   ]
  },
  {
   "cell_type": "code",
   "execution_count": 121,
   "metadata": {},
   "outputs": [
    {
     "name": "stdout",
     "output_type": "stream",
     "text": [
      "19\n"
     ]
    }
   ],
   "source": [
    "# random() 获取0 - 1之间的随机小数\n",
    "# 格式：random.random()\n",
    "# 返回值：随机0-1之间的小数\n",
    "\n",
    "# 利用randon函数，生成0~100的随机数（伪随机） \n",
    "print(int(random.random() * 100))"
   ]
  },
  {
   "cell_type": "code",
   "execution_count": 124,
   "metadata": {},
   "outputs": [
    {
     "name": "stdout",
     "output_type": "stream",
     "text": [
      "6haha\n"
     ]
    }
   ],
   "source": [
    "# choice() 随机返回序列中的某个值\n",
    "# 格式：random.choice(序列)\n",
    "# 返回值：序列中的某个值\n",
    "\n",
    "l = [str(i)+\"haha\" for i in range(10)]\n",
    "print(random.choice(l))"
   ]
  },
  {
   "cell_type": "code",
   "execution_count": 130,
   "metadata": {
    "scrolled": true
   },
   "outputs": [
    {
     "name": "stdout",
     "output_type": "stream",
     "text": [
      "['4haha', '0haha', '3haha', '8haha', '6haha', '7haha', '5haha', '1haha', '9haha', '2haha']\n",
      "['1haha', '8haha', '4haha', '5haha', '6haha', '0haha', '3haha', '9haha', '2haha', '7haha']\n"
     ]
    }
   ],
   "source": [
    "# shuffle() 随机打乱列表\n",
    "# 格式：random.shuffle(列表)\n",
    "# 返回值：打乱顺序之后的列表\n",
    "\n",
    "print(l)\n",
    "l1 = random.shuffle(l)\n",
    "print(l)"
   ]
  },
  {
   "cell_type": "code",
   "execution_count": 134,
   "metadata": {},
   "outputs": [
    {
     "name": "stdout",
     "output_type": "stream",
     "text": [
      "99\n"
     ]
    }
   ],
   "source": [
    "# random.randint(a,b) 随机生成[a,b]的整数\n",
    "print(random.randint(0,100))"
   ]
  }
 ],
 "metadata": {
  "kernelspec": {
   "display_name": "Python 3",
   "language": "python",
   "name": "python3"
  },
  "language_info": {
   "codemirror_mode": {
    "name": "ipython",
    "version": 3
   },
   "file_extension": ".py",
   "mimetype": "text/x-python",
   "name": "python",
   "nbconvert_exporter": "python",
   "pygments_lexer": "ipython3",
   "version": "3.6.5"
  }
 },
 "nbformat": 4,
 "nbformat_minor": 2
}
