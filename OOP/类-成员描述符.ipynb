{
 "cells": [
  {
   "cell_type": "code",
   "execution_count": 2,
   "metadata": {},
   "outputs": [
    {
     "name": "stdout",
     "output_type": "stream",
     "text": [
      "Maple\n"
     ]
    }
   ],
   "source": [
    "# 变量的三种用法\n",
    "\n",
    "class A():\n",
    "    def __init__(self):\n",
    "        self.name = \"NoName\"\n",
    "        self.age = 18\n",
    "        \n",
    "a = A()\n",
    "# 属性的三种用法\n",
    "# 1、赋值\n",
    "# 2、读取\n",
    "# 3、删除\n",
    "a.name = \"Maple\"\n",
    "print(a.name)\n",
    "del a.name"
   ]
  },
  {
   "cell_type": "code",
   "execution_count": 4,
   "metadata": {},
   "outputs": [
    {
     "name": "stdout",
     "output_type": "stream",
     "text": [
      "读取时附加的功能\n",
      "NoName\n",
      "Maple\n",
      "赋值时附加的功能\n",
      "Luo Xiaofeng\n",
      "删除时附加的功能\n"
     ]
    }
   ],
   "source": [
    "# 类属性 property\n",
    "# 应用场景：对变量除了普通的三种操作，还想增加一些附加的操作，那么可以property完成\n",
    "\n",
    "class A():\n",
    "    def __init__(self):\n",
    "        self.name = \"NoName\"\n",
    "        self.age = 18\n",
    "    \n",
    "    def fget(self):\n",
    "        print(\"读取时附加的功能\")\n",
    "        return self.name\n",
    "    \n",
    "    def fset(self,name):\n",
    "        print(\"赋值时附加的功能\")\n",
    "        self.name = name\n",
    "        return None\n",
    "    \n",
    "    def fdel(self):\n",
    "        print(\"删除时附加的功能\")\n",
    "        pass\n",
    "    \n",
    "    x = property(fget,fset,fdel,\"doc说明文档\")\n",
    "    pass\n",
    "\n",
    "test =A()\n",
    "print(test.x)\n",
    "test.name = \"Maple\"\n",
    "print(test.name)\n",
    "test.x = \"Luo Xiaofeng\"\n",
    "print(test.name)\n",
    "del test.x"
   ]
  },
  {
   "cell_type": "code",
   "execution_count": 5,
   "metadata": {},
   "outputs": [
    {
     "name": "stdout",
     "output_type": "stream",
     "text": [
      "sniff your smell\n",
      "Kiss\n"
     ]
    }
   ],
   "source": [
    "# 抽象\n",
    "\n",
    "class Animal():\n",
    "    # 抽象方法的意义：只是提供一个接口，说明这个类的子类都具有SayHello这个方法，但是方法的内容不同\n",
    "    def SayHello(self):\n",
    "        pass\n",
    "\n",
    "class Dog(Animal):\n",
    "     def SayHello(self):\n",
    "            print(\"sniff your smell\")\n",
    "            \n",
    "class Person(Animal):\n",
    "    def SayHello(self):\n",
    "        print(\"Kiss\")\n",
    "        \n",
    "D =Dog()\n",
    "D.SayHello()\n",
    "P = Person()\n",
    "P.SayHello()"
   ]
  },
  {
   "cell_type": "code",
   "execution_count": 9,
   "metadata": {},
   "outputs": [],
   "source": [
    "# 抽象类的实现\n",
    "# abc是一个模块\n",
    "import abc\n",
    "# 声明一个类并且制定当前类的元类\n",
    "class Human(metaclass=abc.ABCMeta):\n",
    "    \n",
    "    # 定义一个抽象的方法\n",
    "    @abc.abstractmethod\n",
    "    def Eat():\n",
    "        pass\n",
    "    \n",
    "    # 定义一个类抽象方法\n",
    "    @abc.abstractclassmethod\n",
    "    def Drink():\n",
    "        pass\n",
    "    \n",
    "    # 定义一个静态抽象方法\n",
    "    @abc.abstractstaticmethod\n",
    "    def Play():\n",
    "        pass\n",
    "    \n",
    "    def Sleep(self):\n",
    "        print(\"Sleeping...\")\n",
    "        \n"
   ]
  },
  {
   "cell_type": "code",
   "execution_count": 16,
   "metadata": {},
   "outputs": [
    {
     "name": "stdout",
     "output_type": "stream",
     "text": [
      "Maple,你好！\n",
      "LXF,你好！\n"
     ]
    }
   ],
   "source": [
    "# 函数名可以当变量\n",
    "def SayHello(name):\n",
    "    print(\"{0},你好！\".format(name))\n",
    "    pass\n",
    "\n",
    "SayHello(\"Maple\")\n",
    "\n",
    "Hi = SayHello\n",
    "Hi(\"LXF\")"
   ]
  },
  {
   "cell_type": "code",
   "execution_count": 17,
   "metadata": {},
   "outputs": [
    {
     "name": "stdout",
     "output_type": "stream",
     "text": [
      "Saying...\n",
      "Saying...\n",
      "saying...\n"
     ]
    }
   ],
   "source": [
    "# 组装类例子 - 1\n",
    "# 实际上类是由类和函数的组装，如下例子：类B 与 类A和say函数组装起来 的作用一样\n",
    "class A():\n",
    "    pass\n",
    "\n",
    "def say(self):\n",
    "    print(\"Saying...\")\n",
    "    \n",
    "class B():\n",
    "    def say(self):\n",
    "        print(\"saying...\")\n",
    "        \n",
    "\n",
    "# 函数直接调用\n",
    "say(2)\n",
    "\n",
    "# 把函数赋值给class A作为A的一个方法\n",
    "A.Say = say\n",
    "a = A()\n",
    "a.Say()\n",
    "\n",
    "# 实例化后，直接调用class B的方法\n",
    "b = B()\n",
    "b.say()"
   ]
  },
  {
   "cell_type": "code",
   "execution_count": 20,
   "metadata": {},
   "outputs": [
    {
     "name": "stdout",
     "output_type": "stream",
     "text": [
      "Saying...\n"
     ]
    }
   ],
   "source": [
    "# 组装类例子 - 2\n",
    "from types import MethodType\n",
    "\n",
    "class C():\n",
    "    pass\n",
    "\n",
    "def say(self):\n",
    "    print(\"Saying...\")\n",
    "\n",
    "c = C()\n",
    "C.say = MethodType(say,C)\n",
    "c.say()"
   ]
  },
  {
   "cell_type": "code",
   "execution_count": 21,
   "metadata": {},
   "outputs": [
    {
     "name": "stdout",
     "output_type": "stream",
     "text": [
      "Help on class type in module builtins:\n",
      "\n",
      "class type(object)\n",
      " |  type(object_or_name, bases, dict)\n",
      " |  type(object) -> the object's type\n",
      " |  type(name, bases, dict) -> a new type\n",
      " |  \n",
      " |  Methods defined here:\n",
      " |  \n",
      " |  __call__(self, /, *args, **kwargs)\n",
      " |      Call self as a function.\n",
      " |  \n",
      " |  __delattr__(self, name, /)\n",
      " |      Implement delattr(self, name).\n",
      " |  \n",
      " |  __dir__(...)\n",
      " |      __dir__() -> list\n",
      " |      specialized __dir__ implementation for types\n",
      " |  \n",
      " |  __getattribute__(self, name, /)\n",
      " |      Return getattr(self, name).\n",
      " |  \n",
      " |  __init__(self, /, *args, **kwargs)\n",
      " |      Initialize self.  See help(type(self)) for accurate signature.\n",
      " |  \n",
      " |  __instancecheck__(...)\n",
      " |      __instancecheck__() -> bool\n",
      " |      check if an object is an instance\n",
      " |  \n",
      " |  __new__(*args, **kwargs)\n",
      " |      Create and return a new object.  See help(type) for accurate signature.\n",
      " |  \n",
      " |  __prepare__(...)\n",
      " |      __prepare__() -> dict\n",
      " |      used to create the namespace for the class statement\n",
      " |  \n",
      " |  __repr__(self, /)\n",
      " |      Return repr(self).\n",
      " |  \n",
      " |  __setattr__(self, name, value, /)\n",
      " |      Implement setattr(self, name, value).\n",
      " |  \n",
      " |  __sizeof__(...)\n",
      " |      __sizeof__() -> int\n",
      " |      return memory consumption of the type object\n",
      " |  \n",
      " |  __subclasscheck__(...)\n",
      " |      __subclasscheck__() -> bool\n",
      " |      check if a class is a subclass\n",
      " |  \n",
      " |  __subclasses__(...)\n",
      " |      __subclasses__() -> list of immediate subclasses\n",
      " |  \n",
      " |  mro(...)\n",
      " |      mro() -> list\n",
      " |      return a type's method resolution order\n",
      " |  \n",
      " |  ----------------------------------------------------------------------\n",
      " |  Data descriptors defined here:\n",
      " |  \n",
      " |  __abstractmethods__\n",
      " |  \n",
      " |  __dict__\n",
      " |  \n",
      " |  __text_signature__\n",
      " |  \n",
      " |  ----------------------------------------------------------------------\n",
      " |  Data and other attributes defined here:\n",
      " |  \n",
      " |  __base__ = <class 'object'>\n",
      " |      The most base type\n",
      " |  \n",
      " |  __bases__ = (<class 'object'>,)\n",
      " |  \n",
      " |  __basicsize__ = 864\n",
      " |  \n",
      " |  __dictoffset__ = 264\n",
      " |  \n",
      " |  __flags__ = -2146675712\n",
      " |  \n",
      " |  __itemsize__ = 40\n",
      " |  \n",
      " |  __mro__ = (<class 'type'>, <class 'object'>)\n",
      " |  \n",
      " |  __weakrefoffset__ = 368\n",
      "\n"
     ]
    }
   ],
   "source": [
    "help(type)"
   ]
  },
  {
   "cell_type": "code",
   "execution_count": 23,
   "metadata": {},
   "outputs": [
    {
     "data": {
      "text/plain": [
       "['__class__',\n",
       " '__delattr__',\n",
       " '__dict__',\n",
       " '__dir__',\n",
       " '__doc__',\n",
       " '__eq__',\n",
       " '__format__',\n",
       " '__ge__',\n",
       " '__getattribute__',\n",
       " '__gt__',\n",
       " '__hash__',\n",
       " '__init__',\n",
       " '__init_subclass__',\n",
       " '__le__',\n",
       " '__lt__',\n",
       " '__module__',\n",
       " '__ne__',\n",
       " '__new__',\n",
       " '__reduce__',\n",
       " '__reduce_ex__',\n",
       " '__repr__',\n",
       " '__setattr__',\n",
       " '__sizeof__',\n",
       " '__str__',\n",
       " '__subclasshook__',\n",
       " '__weakref__',\n",
       " 'class_drink',\n",
       " 'class_say']"
      ]
     },
     "execution_count": 23,
     "metadata": {},
     "output_type": "execute_result"
    }
   ],
   "source": [
    "# 组装类例子 - 3 - 通过class type实现\n",
    "def say(self):\n",
    "    print(\"saying\")\n",
    "\n",
    "def drink(self):\n",
    "    print(\"drinking\")\n",
    "    \n",
    "A = type(\"Aname\",(object,),{\"class_say\":say,\"class_drink\":drink})\n",
    "a = A()\n",
    "3dir(a)"
   ]
  },
  {
   "cell_type": "code",
   "execution_count": null,
   "metadata": {},
   "outputs": [],
   "source": [
    "# 元类"
   ]
  }
 ],
 "metadata": {
  "kernelspec": {
   "display_name": "Python 3",
   "language": "python",
   "name": "python3"
  },
  "language_info": {
   "codemirror_mode": {
    "name": "ipython",
    "version": 3
   },
   "file_extension": ".py",
   "mimetype": "text/x-python",
   "name": "python",
   "nbconvert_exporter": "python",
   "pygments_lexer": "ipython3",
   "version": "3.6.5"
  }
 },
 "nbformat": 4,
 "nbformat_minor": 2
}
