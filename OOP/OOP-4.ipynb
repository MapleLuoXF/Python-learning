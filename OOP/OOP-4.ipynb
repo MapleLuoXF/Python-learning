{
 "cells": [
  {
   "cell_type": "code",
   "execution_count": 1,
   "metadata": {},
   "outputs": [
    {
     "name": "stdout",
     "output_type": "stream",
     "text": [
      "Hi,my name is Maple\n",
      "Hi,my name is Pege\n"
     ]
    }
   ],
   "source": [
    "# 属性案例\n",
    "# 创建Student类，描述学生类\n",
    "# 学生具有Student.name属性\n",
    "# 但name格式并不同意\n",
    "class Student():\n",
    "    def __init__(self,name,age):\n",
    "        self.name = name\n",
    "        self.age = age\n",
    "        \n",
    "    # 介绍下自己\n",
    "    def intro(self):\n",
    "        print(\"Hi,my name is {0}\".format(self.name))\n",
    "    pass\n",
    "\n",
    "s1 = Student(\"Maple\",22)\n",
    "s2 = Student(\"Pege\",5)\n",
    "\n",
    "s1.intro()\n",
    "s2.intro()"
   ]
  },
  {
   "cell_type": "code",
   "execution_count": 9,
   "metadata": {},
   "outputs": [
    {
     "name": "stdout",
     "output_type": "stream",
     "text": [
      "LUO XIAOFENG\n",
      "NoName\n"
     ]
    }
   ],
   "source": [
    "# property案例\n",
    "# 定义一个Person类，具有name，age属性\n",
    "# 具有一定的需求：对于任意输入的姓名，我们希望用大写方式保存\n",
    "# 年龄，希望内部统一用整数保存\n",
    "# x = property(fget, fset, fdel, doc)\n",
    "class Person():\n",
    "    # 函数的名称可以任意\n",
    "    '''\n",
    "    这是一个说明文档\n",
    "    '''\n",
    "    def fget(self):\n",
    "        return self._name\n",
    "    \n",
    "    def fset(self,name):\n",
    "        self._name = name.upper()\n",
    "        \n",
    "    def fdel(self):\n",
    "        self._name = \"NoName\"\n",
    "        \n",
    "    name = property(fget,fset,fdel,\"对name进行操作\")\n",
    "    pass\n",
    "\n",
    "# 如果p1是Person的实例化，p1.name将触发getter，p1.name = name将触发setter，del p1.name将触发deleter\n",
    "p1 = Person()\n",
    "p1.name = \"Luo Xiaofeng\"\n",
    "print(p1.name)\n",
    "\n",
    "del p1.name\n",
    "print(p1.name)"
   ]
  },
  {
   "cell_type": "code",
   "execution_count": 11,
   "metadata": {
    "scrolled": true
   },
   "outputs": [
    {
     "name": "stdout",
     "output_type": "stream",
     "text": [
      "{'__module__': '__main__', '__doc__': '\\n    这是一个说明文档\\n    ', 'fget': <function Person.fget at 0x0000000004FA0AE8>, 'fset': <function Person.fset at 0x0000000004FA0F28>, 'fdel': <function Person.fdel at 0x0000000005303048>, 'name': <property object at 0x00000000052EFB88>, '__dict__': <attribute '__dict__' of 'Person' objects>, '__weakref__': <attribute '__weakref__' of 'Person' objects>}\n",
      "\n",
      "    这是一个说明文档\n",
      "    \n",
      "Person\n",
      "(<class 'object'>,)\n"
     ]
    }
   ],
   "source": [
    "# 类的内置属性举例\n",
    "print(Person.__dict__)\n",
    "print(Person.__doc__)\n",
    "print(Person.__name__)\n",
    "print(Person.__bases__)"
   ]
  },
  {
   "cell_type": "code",
   "execution_count": 12,
   "metadata": {},
   "outputs": [
    {
     "name": "stdout",
     "output_type": "stream",
     "text": [
      "This is class A\n",
      "调用__call__函数了\n"
     ]
    }
   ],
   "source": [
    "# __call__举例\n",
    "class A():\n",
    "    def __init__(self,name = 0):\n",
    "        print(\"This is class A\")\n",
    "        \n",
    "    def __call__(self):\n",
    "        print(\"调用__call__函数了\")\n",
    "    pass\n",
    "\n",
    "a = A()\n",
    "# 如果要将a()作为一个函数使用，需要定义一个__call__()函数，在调用a()的时候实际上是调用__call__()函数\n",
    "a()"
   ]
  },
  {
   "cell_type": "code",
   "execution_count": 44,
   "metadata": {},
   "outputs": [
    {
     "name": "stdout",
     "output_type": "stream",
     "text": [
      "This is class A\n",
      "调用__call__函数了\n",
      "__str__函数的作用体现在这里\n"
     ]
    }
   ],
   "source": [
    "# __str__举例\n",
    "class A():\n",
    "    def __init__(self,name = 0):\n",
    "        print(\"This is class A\")\n",
    "        \n",
    "    def __call__(self):\n",
    "        print(\"调用__call__函数了\")\n",
    "        \n",
    "    # 在直接打印对象时返回至这个函数\n",
    "    def __str__(self):\n",
    "        return \"__str__函数的作用体现在这里\"\n",
    "    pass\n",
    "\n",
    "a = A()\n",
    "a()\n",
    "print(a)"
   ]
  },
  {
   "cell_type": "code",
   "execution_count": 18,
   "metadata": {},
   "outputs": [
    {
     "name": "stdout",
     "output_type": "stream",
     "text": [
      "getting... <__main__.MyDescriptor object at 0x00000000052F2EF0> <__main__.Test object at 0x00000000052F2F28> <class '__main__.Test'>\n",
      "********************\n",
      "setting... <__main__.MyDescriptor object at 0x00000000052F2EF0> <__main__.Test object at 0x00000000052F2F28> t\n",
      "********************\n",
      "deleting... <__main__.MyDescriptor object at 0x00000000052F2EF0> <__main__.Test object at 0x00000000052F2F28>\n"
     ]
    }
   ],
   "source": [
    "class MyDescriptor():\n",
    "    '''\n",
    "    __get__(self,instance,owner):用于访问属性，它返回属性的值。当访问类的属性时，自动触发\n",
    "    __set__(self,instance,value):将在属性分配操作中调用，不返回任何内容。当对类的属性进行赋值时，自动触发   \n",
    "    __delete__(self,instance):控制删除操作，不返回任何内容。当对类的属性进行删除时，自动触发\n",
    "    '''\n",
    "    def __get__(self,instance,owner):\n",
    "        print(\"getting...\",self,instance,owner)\n",
    "    def __set__(self,instance,value):\n",
    "        print(\"setting...\",self,instance,value)\n",
    "    def __delete__(self,instance):\n",
    "        print(\"deleting...\",self,instance)\n",
    "        \n",
    "class Test():\n",
    "    x = MyDescriptor()\n",
    "    pass\n",
    "\n",
    "test = Test()\n",
    "# 直接调用实例test的属性，则访问类MyDescriptor时，自动触发__get__魔法方法\n",
    "test.x\n",
    "print(\"*\" * 20)\n",
    "# 对对象test的属性x进行赋值时，自动触发__set__魔术方法\n",
    "test.x = \"t\"\n",
    "print(\"*\" * 20)\n",
    "# 删除对象test的属性x时，自动触发__delete__魔法方法\n",
    "del test.x"
   ]
  },
  {
   "cell_type": "code",
   "execution_count": 36,
   "metadata": {
    "scrolled": true
   },
   "outputs": [
    {
     "name": "stdout",
     "output_type": "stream",
     "text": [
      "调用了__get__方法\n",
      "********************\n",
      "调用了__set__方法\n",
      "********************\n",
      "调用了__get__方法\n",
      "test.x = 30\n",
      "test._x = 30\n",
      "********************\n",
      "调用了__delete__方法\n"
     ]
    }
   ],
   "source": [
    "# 通过上述例子可以清楚地了解到property()函数其实就是一种描述符\n",
    "# 描述符的定义为：将某种特殊类型的类的实例指派给另一个的属性\n",
    "class MyProperty():\n",
    "    '''\n",
    "    self表示Test的实例化对象test的属性x，即test.x\n",
    "    instance表示Test的实例化对象test，即test\n",
    "    owner指的是Test这个类本身\n",
    "    value表示要赋给test.x的值\n",
    "    '''\n",
    "    def __init__(self,fget=None,fset=None,fdel=None):\n",
    "        # 这一步的目的是：将C类中的方法getx,setx,delx赋予给self.fget,self.fset,self.fdel\n",
    "        self.fget = fget\n",
    "        self.fset = fset\n",
    "        self.fdel = fdel\n",
    "        pass\n",
    "    \n",
    "    def __get__(self,instance,owner):\n",
    "        print(\"调用了__get__方法\")\n",
    "        return self.fget(instance)\n",
    "    \n",
    "    def __set__(self,instance,value):\n",
    "        print(\"调用了__set__方法\")\n",
    "        self.fset(instance,value)\n",
    "        return None\n",
    "    \n",
    "    def __delete__(self,instance):\n",
    "        print(\"调用了__delete__方法\")\n",
    "        self.fdel(instance)\n",
    "        return None\n",
    "    \n",
    "class C():\n",
    "    def __init__(self):\n",
    "        # 这一步的目的是：初始化self._x的值\n",
    "        self._x = None\n",
    "        return None\n",
    "        \n",
    "    def getx(self):\n",
    "        return self._x\n",
    "    \n",
    "    def setx(self,value):\n",
    "        self._x = value\n",
    "        return None\n",
    "    \n",
    "    def delx(self):\n",
    "        # 注意删除的是test._x\n",
    "        del self._x\n",
    "    \n",
    "    x = MyProperty(getx,setx,delx)\n",
    "    pass\n",
    "\n",
    "test = C()\n",
    "\n",
    "test.x\n",
    "print(\"*\"* 20)\n",
    "\n",
    "test.x = 30\n",
    "print(\"*\" * 20)\n",
    "\n",
    "print(\"test.x =\",test.x)\n",
    "print(\"test._x =\",test._x)\n",
    "print(\"*\"*20)\n",
    "# 在删除test.x时，test._x被同时删去，因为调用了C类中的delx方法\n",
    "del test.x"
   ]
  },
  {
   "cell_type": "code",
   "execution_count": 39,
   "metadata": {},
   "outputs": [
    {
     "name": "stdout",
     "output_type": "stream",
     "text": [
      "NoName\n",
      "未查找到\n",
      "None\n"
     ]
    }
   ],
   "source": [
    "# __getattr__\n",
    "\n",
    "class A():\n",
    "    name = \"NoName\"\n",
    "    age = 22\n",
    "    def __getattr__(self,name):\n",
    "        print(\"未查找到\")\n",
    "        \n",
    "a = A()\n",
    "print(a.name)\n",
    "# a.addr实际上不存在\n",
    "print(a.addr)"
   ]
  },
  {
   "cell_type": "code",
   "execution_count": 42,
   "metadata": {},
   "outputs": [
    {
     "name": "stdout",
     "output_type": "stream",
     "text": [
      "设置属性：age\n",
      "18\n"
     ]
    }
   ],
   "source": [
    "# __setattr__案例\n",
    "class Person():\n",
    "    def __init__(self):\n",
    "        pass\n",
    "    \n",
    "    def __setattr__(self,name,value):\n",
    "        print(\"设置属性：{0}\".format(name))\n",
    "        # 下面语句会导致问题，死循环。因为对self.name赋值时会又触发__setattr__，进入死循环\n",
    "        # self.name = value\n",
    "        # 此种情况，为了避免死循环，规定统一调用父类魔法函数\n",
    "        super().__setattr__(name,value)\n",
    "        \n",
    "p = Person()\n",
    "p.age = 18\n",
    "print(p.age)"
   ]
  },
  {
   "cell_type": "code",
   "execution_count": 43,
   "metadata": {},
   "outputs": [
    {
     "name": "stdout",
     "output_type": "stream",
     "text": [
      "<__main__.Person object at 0x0000000005323DD8>\n",
      "Playing...\n",
      "<class '__main__.Person'>\n",
      "Playing...\n",
      "<class '__main__.Person'>\n",
      "Playing...\n",
      "Saying\n",
      "Saying\n"
     ]
    }
   ],
   "source": [
    "# 三种方法的案例\n",
    "class Person():\n",
    "    # 实例方法\n",
    "    def eat(self):\n",
    "        print(self)\n",
    "        print(\"Playing...\")\n",
    "        \n",
    "    @classmethod\n",
    "    def play(cls):\n",
    "        print(cls)\n",
    "        print(\"Playing...\")\n",
    "        \n",
    "    @staticmethod\n",
    "    def say():\n",
    "        print(\"Saying\")\n",
    "        \n",
    "    pass\n",
    "\n",
    "p = Person()\n",
    "# 实例方法\n",
    "p.eat()\n",
    "# 类方法\n",
    "Person.play()\n",
    "p.play()\n",
    "# 静态方法\n",
    "Person.say()\n",
    "p.say()"
   ]
  }
 ],
 "metadata": {
  "kernelspec": {
   "display_name": "Python 3",
   "language": "python",
   "name": "python3"
  },
  "language_info": {
   "codemirror_mode": {
    "name": "ipython",
    "version": 3
   },
   "file_extension": ".py",
   "mimetype": "text/x-python",
   "name": "python",
   "nbconvert_exporter": "python",
   "pygments_lexer": "ipython3",
   "version": "3.6.5"
  }
 },
 "nbformat": 4,
 "nbformat_minor": 2
}
