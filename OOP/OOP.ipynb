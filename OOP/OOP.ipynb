{
 "cells": [
  {
   "cell_type": "code",
   "execution_count": 9,
   "metadata": {},
   "outputs": [
    {
     "data": {
      "text/plain": [
       "mappingproxy({'__module__': '__main__',\n",
       "              'name': None,\n",
       "              'age': 18,\n",
       "              '__dict__': <attribute '__dict__' of 'A' objects>,\n",
       "              '__weakref__': <attribute '__weakref__' of 'A' objects>,\n",
       "              '__doc__': None})"
      ]
     },
     "execution_count": 9,
     "metadata": {},
     "output_type": "execute_result"
    }
   ],
   "source": [
    "class A():\n",
    "    name = None\n",
    "    age = 18\n",
    "    \n",
    "A.__dict__ # 双下划线\n"
   ]
  },
  {
   "cell_type": "code",
   "execution_count": 12,
   "metadata": {},
   "outputs": [
    {
     "name": "stdout",
     "output_type": "stream",
     "text": [
      "Maple\n",
      "18\n",
      "********************\n",
      "79884672\n",
      "1767272032\n",
      "********************\n",
      "Maple\n",
      "18\n",
      "********************\n",
      "79884672\n",
      "1767272032\n"
     ]
    }
   ],
   "source": [
    "class A1():\n",
    "    name = \"Maple\"\n",
    "    age = 18\n",
    "    \n",
    "    def say(self):\n",
    "        self.name = \"Xiaofeng.L\"\n",
    "        self.age = 22\n",
    "\n",
    "#    此案例说明：类实例的属性和其对象的实例的属性在不对对象的实例属性赋\n",
    "#值的前提下，指向同一变量    \n",
    "\n",
    "# 此时，A1成为类实例\n",
    "print(A1.name)\n",
    "print(A1.age)\n",
    "\n",
    "print(\"*\" * 20)\n",
    "\n",
    "print(id(A1.name))\n",
    "print(id(A1.age))\n",
    "\n",
    "print(\"*\" * 20)\n",
    "a = A1() #a为对象，A1为类\n",
    "\n",
    "print(a.name)\n",
    "print(a.age)\n",
    "print(\"*\" * 20)\n",
    "print(id(a.name))\n",
    "print(id(a.age))\n"
   ]
  },
  {
   "cell_type": "code",
   "execution_count": 13,
   "metadata": {},
   "outputs": [
    {
     "name": "stdout",
     "output_type": "stream",
     "text": [
      "Maple\n",
      "18\n",
      "********************\n",
      "79884672\n",
      "1767272032\n",
      "********************\n",
      "Kanvi\n",
      "22\n",
      "********************\n",
      "89898768\n",
      "1767272160\n"
     ]
    }
   ],
   "source": [
    "print(A1.name)\n",
    "print(A1.age)\n",
    "\n",
    "print(\"*\" * 20)\n",
    "\n",
    "print(id(A1.name))\n",
    "print(id(A1.age))\n",
    "\n",
    "print(\"*\" * 20)\n",
    "a = A1() #a为对象，A1为类\n",
    "\n",
    "a.name = \"Kanvi\"\n",
    "a.age = 22\n",
    "\n",
    "print(a.name)\n",
    "print(a.age)\n",
    "print(\"*\" * 20)\n",
    "print(id(a.name))\n",
    "print(id(a.age))"
   ]
  },
  {
   "cell_type": "code",
   "execution_count": 20,
   "metadata": {},
   "outputs": [
    {
     "name": "stdout",
     "output_type": "stream",
     "text": [
      "My name is Xiaofeng.L\n",
      "My age is 22\n"
     ]
    },
    {
     "ename": "TypeError",
     "evalue": "sayAgain() missing 1 required positional argument: 'second'",
     "output_type": "error",
     "traceback": [
      "\u001b[1;31m---------------------------------------------------------------------------\u001b[0m",
      "\u001b[1;31mTypeError\u001b[0m                                 Traceback (most recent call last)",
      "\u001b[1;32m<ipython-input-20-c40ba164e9dc>\u001b[0m in \u001b[0;36m<module>\u001b[1;34m()\u001b[0m\n\u001b[0;32m     19\u001b[0m \u001b[1;31m# 通过以下例子可得知：class中的方法（即函数）的第一个参数为对象的实例化\u001b[0m\u001b[1;33m\u001b[0m\u001b[1;33m\u001b[0m\u001b[0m\n\u001b[0;32m     20\u001b[0m \u001b[0mTest\u001b[0m\u001b[1;33m.\u001b[0m\u001b[0msay\u001b[0m\u001b[1;33m(\u001b[0m\u001b[1;33m)\u001b[0m\u001b[1;33m\u001b[0m\u001b[0m\n\u001b[1;32m---> 21\u001b[1;33m \u001b[0mTest\u001b[0m\u001b[1;33m.\u001b[0m\u001b[0msayAgain\u001b[0m\u001b[1;33m(\u001b[0m\u001b[1;33m)\u001b[0m\u001b[1;33m\u001b[0m\u001b[0m\n\u001b[0m",
      "\u001b[1;31mTypeError\u001b[0m: sayAgain() missing 1 required positional argument: 'second'"
     ]
    }
   ],
   "source": [
    "class A1():\n",
    "    name = \"Maple\"\n",
    "    age = 18\n",
    "    \n",
    "    # self其实并没有明确的意义，self实际为对象的实例\n",
    "    def say(self):\n",
    "        self.name = \"Xiaofeng.L\"\n",
    "        self.age = 22\n",
    "        print(\"My name is {0}\".format(self.name))\n",
    "        print(\"My age is {0}\".format(self.age))\n",
    "        \n",
    "    def sayAgain(s,second):\n",
    "        second.name = None\n",
    "        second.age = None\n",
    "        print(\"His name is {0}\".format(s.name))\n",
    "        print(\"His age is {0}\".format(s.age))\n",
    "        \n",
    "Test = A1()\n",
    "# 通过以下例子可得知：class中的方法（即函数）的第一个参数为对象的实例化\n",
    "Test.say()\n",
    "Test.sayAgain()"
   ]
  },
  {
   "cell_type": "code",
   "execution_count": null,
   "metadata": {},
   "outputs": [],
   "source": [
    "# 类的方法与普通的函数只有一个特别的区别——它们必须有一个额外的第一个参数的\n",
    "# 名称，但是在调用的时候不用为这个参数赋值，Python会提供这个值。这个特别的变\n",
    "# 量指对象本身，按照惯例它的名称是self"
   ]
  },
  {
   "cell_type": "code",
   "execution_count": 30,
   "metadata": {},
   "outputs": [
    {
     "name": "stdout",
     "output_type": "stream",
     "text": [
      "My name is B .My age is 30\n",
      "A\n",
      "30\n",
      "Hello , nice to see you again!\n"
     ]
    },
    {
     "ename": "TypeError",
     "evalue": "say() missing 1 required positional argument: 'self'",
     "output_type": "error",
     "traceback": [
      "\u001b[1;31m---------------------------------------------------------------------------\u001b[0m",
      "\u001b[1;31mTypeError\u001b[0m                                 Traceback (most recent call last)",
      "\u001b[1;32m<ipython-input-30-8f925717c0d9>\u001b[0m in \u001b[0;36m<module>\u001b[1;34m()\u001b[0m\n\u001b[0;32m     17\u001b[0m \u001b[1;31m# 如果要调用sayAgain方法，直接调用类名\u001b[0m\u001b[1;33m\u001b[0m\u001b[1;33m\u001b[0m\u001b[0m\n\u001b[0;32m     18\u001b[0m \u001b[0mTeacher\u001b[0m\u001b[1;33m.\u001b[0m\u001b[0msayAgain\u001b[0m\u001b[1;33m(\u001b[0m\u001b[1;33m)\u001b[0m\u001b[1;33m\u001b[0m\u001b[0m\n\u001b[1;32m---> 19\u001b[1;33m \u001b[0mTeacher\u001b[0m\u001b[1;33m.\u001b[0m\u001b[0msay\u001b[0m\u001b[1;33m(\u001b[0m\u001b[1;33m)\u001b[0m\u001b[1;33m\u001b[0m\u001b[0m\n\u001b[0m",
      "\u001b[1;31mTypeError\u001b[0m: say() missing 1 required positional argument: 'self'"
     ]
    }
   ],
   "source": [
    "class Teacher():\n",
    "    name = \"A\"\n",
    "    age = 30\n",
    "    \n",
    "    def say(self):\n",
    "        self.name = \"B\"\n",
    "        self.age = 50\n",
    "        print(\"My name is {0} .My age is {1}\".format(self.name,__class__.age))\n",
    "    def sayAgain():\n",
    "        print(__class__.name) # 函数sayAgain（）没有self参数，若要访问class的成员用__class__.访问\n",
    "        print(__class__.age)\n",
    "        print(\"Hello , nice to see you again!\")\n",
    "\n",
    "t = Teacher()\n",
    "t.say()\n",
    "# 此时如果直接调用t.sayAgian()会报错\n",
    "# 如果要调用sayAgain方法，直接调用类名\n",
    "Teacher.sayAgain()\n",
    "Teacher.say() # 因为没有实例对象，故不能直接调用say（）方法"
   ]
  },
  {
   "cell_type": "code",
   "execution_count": 35,
   "metadata": {},
   "outputs": [
    {
     "name": "stdout",
     "output_type": "stream",
     "text": [
      "aaa\n",
      "20\n",
      "aaa\n",
      "20\n",
      "Maple\n",
      "22\n",
      "bbbb\n"
     ]
    },
    {
     "ename": "AttributeError",
     "evalue": "type object 'B' has no attribute 'age'",
     "output_type": "error",
     "traceback": [
      "\u001b[1;31m---------------------------------------------------------------------------\u001b[0m",
      "\u001b[1;31mAttributeError\u001b[0m                            Traceback (most recent call last)",
      "\u001b[1;32m<ipython-input-35-754124ff75d2>\u001b[0m in \u001b[0;36m<module>\u001b[1;34m()\u001b[0m\n\u001b[0;32m     27\u001b[0m \u001b[1;33m\u001b[0m\u001b[0m\n\u001b[0;32m     28\u001b[0m \u001b[1;31m# 此时，传入的是类实例B，因为B具有name和age属性\u001b[0m\u001b[1;33m\u001b[0m\u001b[1;33m\u001b[0m\u001b[0m\n\u001b[1;32m---> 29\u001b[1;33m \u001b[0mA\u001b[0m\u001b[1;33m.\u001b[0m\u001b[0msay\u001b[0m\u001b[1;33m(\u001b[0m\u001b[0mB\u001b[0m\u001b[1;33m)\u001b[0m\u001b[1;33m\u001b[0m\u001b[0m\n\u001b[0m",
      "\u001b[1;32m<ipython-input-35-754124ff75d2>\u001b[0m in \u001b[0;36msay\u001b[1;34m(self)\u001b[0m\n\u001b[0;32m     11\u001b[0m     \u001b[1;32mdef\u001b[0m \u001b[0msay\u001b[0m\u001b[1;33m(\u001b[0m\u001b[0mself\u001b[0m\u001b[1;33m)\u001b[0m\u001b[1;33m:\u001b[0m\u001b[1;33m\u001b[0m\u001b[0m\n\u001b[0;32m     12\u001b[0m         \u001b[0mprint\u001b[0m\u001b[1;33m(\u001b[0m\u001b[0mself\u001b[0m\u001b[1;33m.\u001b[0m\u001b[0mname\u001b[0m\u001b[1;33m)\u001b[0m\u001b[1;33m\u001b[0m\u001b[0m\n\u001b[1;32m---> 13\u001b[1;33m         \u001b[0mprint\u001b[0m\u001b[1;33m(\u001b[0m\u001b[0mself\u001b[0m\u001b[1;33m.\u001b[0m\u001b[0mage\u001b[0m\u001b[1;33m)\u001b[0m\u001b[1;33m\u001b[0m\u001b[0m\n\u001b[0m\u001b[0;32m     14\u001b[0m \u001b[1;33m\u001b[0m\u001b[0m\n\u001b[0;32m     15\u001b[0m \u001b[1;32mclass\u001b[0m \u001b[0mB\u001b[0m\u001b[1;33m(\u001b[0m\u001b[1;33m)\u001b[0m\u001b[1;33m:\u001b[0m\u001b[1;33m\u001b[0m\u001b[0m\n",
      "\u001b[1;31mAttributeError\u001b[0m: type object 'B' has no attribute 'age'"
     ]
    }
   ],
   "source": [
    "# 关于self的案例\n",
    "class A():\n",
    "    name = \"Maple\"\n",
    "    age = 22\n",
    "    \n",
    "    #\n",
    "    def __init__(self):\n",
    "        self.name = \"aaa\"\n",
    "        self.age = 20\n",
    "    \n",
    "    def say(self):\n",
    "        print(self.name)\n",
    "        print(self.age)\n",
    "\n",
    "class B():\n",
    "    name = \"bbbb\"\n",
    "    age = 30\n",
    "\n",
    "a = A()\n",
    "# 此时，系统会默认把a作为第一个参数传入函数 \n",
    "a.say()\n",
    "\n",
    "# 此时，self被a替换\n",
    "A.say(a)\n",
    "# 同样可以把A作为参数传入\n",
    "A.say(A)\n",
    "\n",
    "# 此时，传入的是类实例B，因为B具有name和age属性。如果没有name属性或是没有age属性则不能这么做\n",
    "A.say(B)\n",
    "\n",
    "# 以上代码，利用了鸭子模型"
   ]
  },
  {
   "cell_type": "code",
   "execution_count": 40,
   "metadata": {},
   "outputs": [
    {
     "name": "stdout",
     "output_type": "stream",
     "text": [
      "Maple\n"
     ]
    },
    {
     "ename": "AttributeError",
     "evalue": "'Person' object has no attribute '__age'",
     "output_type": "error",
     "traceback": [
      "\u001b[1;31m---------------------------------------------------------------------------\u001b[0m",
      "\u001b[1;31mAttributeError\u001b[0m                            Traceback (most recent call last)",
      "\u001b[1;32m<ipython-input-40-a37f5e4e3d2b>\u001b[0m in \u001b[0;36m<module>\u001b[1;34m()\u001b[0m\n\u001b[0;32m     11\u001b[0m \u001b[1;31m# age是私有变量\u001b[0m\u001b[1;33m\u001b[0m\u001b[1;33m\u001b[0m\u001b[0m\n\u001b[0;32m     12\u001b[0m \u001b[1;31m# 注意报错信息\u001b[0m\u001b[1;33m\u001b[0m\u001b[1;33m\u001b[0m\u001b[0m\n\u001b[1;32m---> 13\u001b[1;33m \u001b[0mprint\u001b[0m\u001b[1;33m(\u001b[0m\u001b[0mp\u001b[0m\u001b[1;33m.\u001b[0m\u001b[0m__age\u001b[0m\u001b[1;33m)\u001b[0m\u001b[1;33m\u001b[0m\u001b[0m\n\u001b[0m",
      "\u001b[1;31mAttributeError\u001b[0m: 'Person' object has no attribute '__age'"
     ]
    }
   ],
   "source": [
    "# 私有变量案例\n",
    "class Person():\n",
    "    # name是共有的成员\n",
    "    name =  \"Maple\"\n",
    "    # __age就是私有成员（在前面加两个下划线）\n",
    "    __age = 23\n",
    "    \n",
    "p = Person()\n",
    "# name是公有变量\n",
    "print(p.name)\n",
    "# age是私有变量\n",
    "# 注意报错信息\n",
    " \n",
    "print(p.__age)"
   ]
  },
  {
   "cell_type": "code",
   "execution_count": 43,
   "metadata": {},
   "outputs": [
    {
     "name": "stdout",
     "output_type": "stream",
     "text": [
      "{'__module__': '__main__', 'name': 'Maple', '_Person__age': 23, '__dict__': <attribute '__dict__' of 'Person' objects>, '__weakref__': <attribute '__weakref__' of 'Person' objects>, '__doc__': None}\n",
      "20\n"
     ]
    }
   ],
   "source": [
    "#  name mangling技术\n",
    "print(Person.__dict__)\n",
    "\n",
    "p._Person_age = 20\n",
    "print(p._Person_age)"
   ]
  }
 ],
 "metadata": {
  "kernelspec": {
   "display_name": "Python 3",
   "language": "python",
   "name": "python3"
  },
  "language_info": {
   "codemirror_mode": {
    "name": "ipython",
    "version": 3
   },
   "file_extension": ".py",
   "mimetype": "text/x-python",
   "name": "python",
   "nbconvert_exporter": "python",
   "pygments_lexer": "ipython3",
   "version": "3.6.5"
  }
 },
 "nbformat": 4,
 "nbformat_minor": 2
}
