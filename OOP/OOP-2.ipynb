{
 "cells": [
  {
   "cell_type": "code",
   "execution_count": 7,
   "metadata": {},
   "outputs": [
    {
     "name": "stdout",
     "output_type": "stream",
     "text": [
      "NoName\n",
      "sec\n",
      "Sleeping ...\n",
      "9527\n",
      "attention!\n"
     ]
    }
   ],
   "source": [
    "# 继承的语法\n",
    "# 在Python中，任何类都有一个共同的父类叫object\n",
    "class Person():\n",
    "    name = \"NoName\"\n",
    "    age = 18\n",
    "    __score = 0 # 私有成员\n",
    "    _petname = \"sec\" # 受保护成员\n",
    "    def sleep(self):\n",
    "        print(\"Sleeping ...\")\n",
    "    pass\n",
    "        \n",
    "# 父类写在括号内\n",
    "class Teacher(Person):\n",
    "    teacher_id = \"9527\"\n",
    "    def make_test(self):\n",
    "        print(\"attention!\")\n",
    "    pass\n",
    "\n",
    "t = Teacher()\n",
    "print(t.name)\n",
    "print(t._petname)\n",
    "\n",
    "# 私有访问问题，公开访问私有变量，会报错\n",
    "# print(t.__score)\n",
    "\n",
    "t.sleep() # 对象调用子类中的方法\n",
    "print(t.teacher_id)\n",
    "t.make_test()\n",
    "\n"
   ]
  },
  {
   "cell_type": "code",
   "execution_count": 9,
   "metadata": {},
   "outputs": [
    {
     "name": "stdout",
     "output_type": "stream",
     "text": [
      "Maple\n"
     ]
    }
   ],
   "source": [
    "# 子类和父类定义同一个名称成员，则优先使用子类本身\n",
    "class Person():\n",
    "    name = \"NoName\"\n",
    "    age = 18\n",
    "    __score = 0 # 私有成员\n",
    "    _petname = \"sec\" # 受保护成员\n",
    "    def sleep(self):\n",
    "        print(\"Sleeping ...\")\n",
    "    pass\n",
    "\n",
    "# 父类写在括号内\n",
    "class Teacher(Person):\n",
    "    name = \"Maple\"\n",
    "    teacher_id = \"9527\"\n",
    "    def make_test(self):\n",
    "        print(\"attention!\")\n",
    "    pass\n",
    "\n",
    "t = Teacher()\n",
    "print(t.name)"
   ]
  },
  {
   "cell_type": "code",
   "execution_count": 10,
   "metadata": {},
   "outputs": [
    {
     "name": "stdout",
     "output_type": "stream",
     "text": [
      "make some money\n",
      "attention!\n"
     ]
    }
   ],
   "source": [
    "# \n",
    "class Person():\n",
    "    name = \"NoName\"\n",
    "    age = 18\n",
    "    __score = 0 # 私有成员\n",
    "    _petname = \"sec\" # 受保护成员\n",
    "    def sleep(self):\n",
    "        print(\"Sleeping ...\")\n",
    "        \n",
    "    def work(self):\n",
    "        print(\"make some money\")\n",
    "\n",
    "\n",
    "# 父类写在括号内\n",
    "class Teacher(Person):\n",
    "    name = \"Maple\"\n",
    "    teacher_id = \"9527\"\n",
    "    def make_test(self):\n",
    "        print(\"attention!\")\n",
    "        \n",
    "    def work(self):\n",
    "        # 扩充父类的功能只需要调用父类相应的函数\n",
    "        Person.work(self)\n",
    "        self.make_test()\n",
    "        \n",
    "t = Teacher()\n",
    "t.work()"
   ]
  },
  {
   "cell_type": "code",
   "execution_count": 26,
   "metadata": {},
   "outputs": [
    {
     "name": "stdout",
     "output_type": "stream",
     "text": [
      "make some money\n",
      "attention!\n"
     ]
    }
   ],
   "source": [
    "class Person():\n",
    "    name = \"NoName\"\n",
    "    age = 18\n",
    "    __score = 0 # 私有成员\n",
    "    _petname = \"sec\" # 受保护成员\n",
    "    def sleep(self):\n",
    "        print(\"Sleeping ...\")\n",
    "        \n",
    "    def work(self):\n",
    "        print(\"make some money\")\n",
    "\n",
    "\n",
    "# 父类写在括号内\n",
    "class Teacher(Person):\n",
    "    name = \"Maple\"\n",
    "    teacher_id = \"9527\"\n",
    "    def make_test(self):\n",
    "        print(\"attention!\")\n",
    "        \n",
    "    def work(self):\n",
    "        # 扩充父类的另一种方法\n",
    "        # super代表得到父类\n",
    "        super().work()\n",
    "        self.make_test()\n",
    "        \n",
    "t = Teacher()\n",
    "t.work()"
   ]
  },
  {
   "cell_type": "code",
   "execution_count": 14,
   "metadata": {},
   "outputs": [
    {
     "name": "stdout",
     "output_type": "stream",
     "text": [
      "I am init in dog\n"
     ]
    }
   ],
   "source": [
    "# 构造函数的概念\n",
    "\n",
    "class dog():\n",
    "    # __init__就是构造函数\n",
    "    # 每次实例化的时候，第一个被自动地调用\n",
    "    # 因为主要工作是进行初始化，所以得名构造函数\n",
    "    def __init__(self):\n",
    "        print(\"I am init in dog\")\n",
    "\n",
    "# 实例化的时候，括号内的参数需要跟构造函数参数匹配\n",
    "D = dog()"
   ]
  },
  {
   "cell_type": "code",
   "execution_count": 15,
   "metadata": {},
   "outputs": [
    {
     "name": "stdout",
     "output_type": "stream",
     "text": [
      "I am init in dog\n"
     ]
    }
   ],
   "source": [
    "# 继承中的构造函数 - 1\n",
    "\n",
    "class Animal():\n",
    "    pass\n",
    "\n",
    "class PaxingAni(Animal):\n",
    "    pass\n",
    "\n",
    "class dog(PaxingAni):\n",
    "    # __init__就是构造函数\n",
    "    # 每次实例化的时候，第一个被自动地调用\n",
    "    # 因为主要工作是进行初始化，所以得名构造函数\n",
    "    def __init__(self):\n",
    "        print(\"I am init in dog\")\n",
    "        \n",
    "D = dog()"
   ]
  },
  {
   "cell_type": "code",
   "execution_count": 18,
   "metadata": {},
   "outputs": [
    {
     "name": "stdout",
     "output_type": "stream",
     "text": [
      "I am init in dog\n",
      "动物\n"
     ]
    }
   ],
   "source": [
    "# 继承中的构造函数 - 2\n",
    "\n",
    "class Animal():\n",
    "    def __init__(self):\n",
    "        print(\"动物\")\n",
    "\n",
    "class BuruAni(Animal):\n",
    "    pass\n",
    "    #def __init__(self):\n",
    "        #print(\"哺乳动物\")\n",
    "\n",
    "class dog(BuruAni):\n",
    "    # __init__就是构造函数\n",
    "    # 每次实例化的时候，第一个被自动地调用\n",
    "    # 因为主要工作是进行初始化，所以得名构造函数\n",
    "    def __init__(self):\n",
    "        print(\"I am init in dog\")\n",
    "\n",
    "# 实例化的时候，自动调用了dog的构造函数\n",
    "# 因为找到了构造函数，则不再查找父类的构造函数\n",
    "D = dog()\n",
    "\n",
    "class cat(BuruAni):\n",
    "    pass\n",
    "\n",
    "# 若在子类中未找到构造函数，则往回找父类的构造函数，逐级往上查找直到可最终得到构造函数\n",
    "C = cat()"
   ]
  },
  {
   "cell_type": "code",
   "execution_count": 23,
   "metadata": {},
   "outputs": [
    {
     "name": "stdout",
     "output_type": "stream",
     "text": [
      "I am init in dog\n",
      "哺乳动物，Cafe\n"
     ]
    }
   ],
   "source": [
    "# 继承中的构造函数 - 3\n",
    "\n",
    "class Animal():\n",
    "    def __init__(self):\n",
    "        print(\"动物\")\n",
    "\n",
    "class BuruAni(Animal):  \n",
    "    def __init__(self,name):\n",
    "        print(\"哺乳动物，{0}\".format(name))\n",
    "\n",
    "class dog(BuruAni):\n",
    "    # __init__就是构造函数\n",
    "    # 每次实例化的时候，第一个被自动地调用\n",
    "    # 因为主要工作是进行初始化，所以得名构造函数\n",
    "    def __init__(self):\n",
    "        print(\"I am init in dog\")\n",
    "        \n",
    "# 实例化dog的时候，查找到dog的构造函数，参数匹配，不报错\n",
    "d = dog()\n",
    "\n",
    "class cat(BuruAni):\n",
    "    pass\n",
    "\n",
    "# 此时，由于cat没有构造函数，则向上查找\n",
    "# 因为BuruAni的构造函数需要两个参数，实例化的时候只给了一个，报错\n",
    "# 若要令程序不报错，则需输入第二个参数\n",
    "c = cat(\"Cafe\")"
   ]
  },
  {
   "cell_type": "code",
   "execution_count": 24,
   "metadata": {},
   "outputs": [
    {
     "name": "stdout",
     "output_type": "stream",
     "text": [
      "<class 'type'>\n",
      "Help on class super in module builtins:\n",
      "\n",
      "class super(object)\n",
      " |  super() -> same as super(__class__, <first argument>)\n",
      " |  super(type) -> unbound super object\n",
      " |  super(type, obj) -> bound super object; requires isinstance(obj, type)\n",
      " |  super(type, type2) -> bound super object; requires issubclass(type2, type)\n",
      " |  Typical use to call a cooperative superclass method:\n",
      " |  class C(B):\n",
      " |      def meth(self, arg):\n",
      " |          super().meth(arg)\n",
      " |  This works for class methods too:\n",
      " |  class C(B):\n",
      " |      @classmethod\n",
      " |      def cmeth(cls, arg):\n",
      " |          super().cmeth(arg)\n",
      " |  \n",
      " |  Methods defined here:\n",
      " |  \n",
      " |  __get__(self, instance, owner, /)\n",
      " |      Return an attribute of instance, which is of type owner.\n",
      " |  \n",
      " |  __getattribute__(self, name, /)\n",
      " |      Return getattr(self, name).\n",
      " |  \n",
      " |  __init__(self, /, *args, **kwargs)\n",
      " |      Initialize self.  See help(type(self)) for accurate signature.\n",
      " |  \n",
      " |  __new__(*args, **kwargs) from builtins.type\n",
      " |      Create and return a new object.  See help(type) for accurate signature.\n",
      " |  \n",
      " |  __repr__(self, /)\n",
      " |      Return repr(self).\n",
      " |  \n",
      " |  ----------------------------------------------------------------------\n",
      " |  Data descriptors defined here:\n",
      " |  \n",
      " |  __self__\n",
      " |      the instance invoking super(); may be None\n",
      " |  \n",
      " |  __self_class__\n",
      " |      the type of the instance invoking super(); may be None\n",
      " |  \n",
      " |  __thisclass__\n",
      " |      the class invoking super()\n",
      "\n"
     ]
    }
   ],
   "source": [
    "print(type(super))\n",
    "help(super)"
   ]
  },
  {
   "cell_type": "code",
   "execution_count": null,
   "metadata": {},
   "outputs": [],
   "source": []
  }
 ],
 "metadata": {
  "kernelspec": {
   "display_name": "Python 3",
   "language": "python",
   "name": "python3"
  },
  "language_info": {
   "codemirror_mode": {
    "name": "ipython",
    "version": 3
   },
   "file_extension": ".py",
   "mimetype": "text/x-python",
   "name": "python",
   "nbconvert_exporter": "python",
   "pygments_lexer": "ipython3",
   "version": "3.6.5"
  }
 },
 "nbformat": 4,
 "nbformat_minor": 2
}
